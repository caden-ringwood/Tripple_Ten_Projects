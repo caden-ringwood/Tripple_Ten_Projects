{
 "cells": [
  {
   "cell_type": "markdown",
   "id": "d1e24bf8-a6da-4e0b-8902-ebbf3555133d",
   "metadata": {},
   "source": [
    "# OilyGiant Oil Well Development Project\n",
    "\n",
    "**Objective:**  \n",
    "Identify the most profitable region for new oil well development by combining machine learning predictions with financial risk analysis.  \n",
    "\n",
    "**Approach:**  \n",
    "- Collected and prepared geological data from three regions  \n",
    "- Trained and evaluated linear regression models to predict oil reserves  \n",
    "- Applied profit calculations under budget constraints  \n",
    "- Used bootstrapping (1,000 iterations) to estimate confidence intervals and risk of losses  \n",
    "- Recommended the optimal region based on maximum profit with <2.5% loss probability  \n",
    "\n",
    "**Outcome:**  \n",
    "Region 1 was identified as the best candidate, offering the highest expected profit while staying within the acceptable risk threshold."
   ]
  },
  {
   "cell_type": "code",
   "execution_count": 14,
   "id": "1be81f61-73ce-46c9-a784-7da98021fc14",
   "metadata": {},
   "outputs": [],
   "source": [
    "## imports\n",
    "import pandas as pd\n",
    "import numpy as np\n",
    "from sklearn.model_selection import train_test_split\n",
    "from sklearn.linear_model import LinearRegression\n",
    "from sklearn.metrics import mean_squared_error\n",
    "import matplotlib.pyplot as plt"
   ]
  },
  {
   "cell_type": "code",
   "execution_count": 15,
   "id": "54b2c790-b692-486f-80e8-452f8431bca8",
   "metadata": {
    "scrolled": true
   },
   "outputs": [
    {
     "name": "stdout",
     "output_type": "stream",
     "text": [
      "Region 0 info:\n",
      "<class 'pandas.core.frame.DataFrame'>\n",
      "RangeIndex: 100000 entries, 0 to 99999\n",
      "Data columns (total 5 columns):\n",
      " #   Column   Non-Null Count   Dtype  \n",
      "---  ------   --------------   -----  \n",
      " 0   id       100000 non-null  object \n",
      " 1   f0       100000 non-null  float64\n",
      " 2   f1       100000 non-null  float64\n",
      " 3   f2       100000 non-null  float64\n",
      " 4   product  100000 non-null  float64\n",
      "dtypes: float64(4), object(1)\n",
      "memory usage: 3.8+ MB\n",
      "None\n",
      "                  f0             f1             f2        product\n",
      "count  100000.000000  100000.000000  100000.000000  100000.000000\n",
      "mean        0.500419       0.250143       2.502647      92.500000\n",
      "std         0.871832       0.504433       3.248248      44.288691\n",
      "min        -1.408605      -0.848218     -12.088328       0.000000\n",
      "25%        -0.072580      -0.200881       0.287748      56.497507\n",
      "50%         0.502360       0.250252       2.515969      91.849972\n",
      "75%         1.073581       0.700646       4.715088     128.564089\n",
      "max         2.362331       1.343769      16.003790     185.364347\n",
      "Region 1 info:\n",
      "<class 'pandas.core.frame.DataFrame'>\n",
      "RangeIndex: 100000 entries, 0 to 99999\n",
      "Data columns (total 5 columns):\n",
      " #   Column   Non-Null Count   Dtype  \n",
      "---  ------   --------------   -----  \n",
      " 0   id       100000 non-null  object \n",
      " 1   f0       100000 non-null  float64\n",
      " 2   f1       100000 non-null  float64\n",
      " 3   f2       100000 non-null  float64\n",
      " 4   product  100000 non-null  float64\n",
      "dtypes: float64(4), object(1)\n",
      "memory usage: 3.8+ MB\n",
      "None\n",
      "                  f0             f1             f2        product\n",
      "count  100000.000000  100000.000000  100000.000000  100000.000000\n",
      "mean        1.141296      -4.796579       2.494541      68.825000\n",
      "std         8.965932       5.119872       1.703572      45.944423\n",
      "min       -31.609576     -26.358598      -0.018144       0.000000\n",
      "25%        -6.298551      -8.267985       1.000021      26.953261\n",
      "50%         1.153055      -4.813172       2.011479      57.085625\n",
      "75%         8.621015      -1.332816       3.999904     107.813044\n",
      "max        29.421755      18.734063       5.019721     137.945408\n",
      "Region 2 info:\n",
      "<class 'pandas.core.frame.DataFrame'>\n",
      "RangeIndex: 100000 entries, 0 to 99999\n",
      "Data columns (total 5 columns):\n",
      " #   Column   Non-Null Count   Dtype  \n",
      "---  ------   --------------   -----  \n",
      " 0   id       100000 non-null  object \n",
      " 1   f0       100000 non-null  float64\n",
      " 2   f1       100000 non-null  float64\n",
      " 3   f2       100000 non-null  float64\n",
      " 4   product  100000 non-null  float64\n",
      "dtypes: float64(4), object(1)\n",
      "memory usage: 3.8+ MB\n",
      "None\n",
      "                  f0             f1             f2        product\n",
      "count  100000.000000  100000.000000  100000.000000  100000.000000\n",
      "mean        0.002023      -0.002081       2.495128      95.000000\n",
      "std         1.732045       1.730417       3.473445      44.749921\n",
      "min        -8.760004      -7.084020     -11.970335       0.000000\n",
      "25%        -1.162288      -1.174820       0.130359      59.450441\n",
      "50%         0.009424      -0.009482       2.484236      94.925613\n",
      "75%         1.158535       1.163678       4.858794     130.595027\n",
      "max         7.238262       7.844801      16.739402     190.029838\n"
     ]
    }
   ],
   "source": [
    "## load Datasets\n",
    "data_0 = pd.read_csv('data/geo_data_0.csv')\n",
    "data_1 = pd.read_csv('data/geo_data_1.csv')\n",
    "data_2 = pd.read_csv('data/geo_data_2.csv')\n",
    "\n",
    "datasets = [data_0, data_1, data_2]\n",
    "# Inspect data\n",
    "for i, data in enumerate(datasets):  # i used enumricate so list of data sets can be interprited as a number\n",
    "    print(f\"Region {i} info:\")\n",
    "    print(data.info())\n",
    "    print(data.describe())"
   ]
  },
  {
   "cell_type": "markdown",
   "id": "646a36c3-6ce6-4f07-a30b-1791c54583d4",
   "metadata": {},
   "source": [
    "## Step 1: Data Inspection Summary\n",
    "\n",
    "- All three regions have 100,000 wells with complete data.  \n",
    "- Average reserves: Region 0 ~92.5, Region 1 ~68.8, Region 2 ~95 thousand barrels.  \n",
    "- Feature ranges differ, which may affect predictions and profits.  \n",
    "- Data is clean and ready for modeling."
   ]
  },
  {
   "cell_type": "code",
   "execution_count": 16,
   "id": "4c5e7c85-f6f0-47f2-afcb-18da165f63b5",
   "metadata": {},
   "outputs": [
    {
     "name": "stdout",
     "output_type": "stream",
     "text": [
      "Region 0: Average predicted volume: 92.40, RMSE: 37.76\n",
      "Region 1: Average predicted volume: 68.71, RMSE: 0.89\n",
      "Region 2: Average predicted volume: 94.77, RMSE: 40.15\n"
     ]
    }
   ],
   "source": [
    "# Step 2: Train and Test Models\n",
    "models = []\n",
    "predictions = []\n",
    "\n",
    "for i, data in enumerate(datasets):\n",
    "    features = data[['f0', 'f1', 'f2']]\n",
    "    target = data['product']\n",
    "\n",
    "    # Split data into 75% train and 25% validation\n",
    "    features_train, features_val, target_train, target_val = train_test_split(features, target, test_size=0.25, random_state=42)\n",
    "\n",
    "    # Train linear regression model\n",
    "    model = LinearRegression()\n",
    "    model.fit(features_train, target_train)\n",
    "    \n",
    "    # Predict on validation set\n",
    "    target_pred = model.predict(features_val)\n",
    "\n",
    "    # Evaluate model\n",
    "    mse = mean_squared_error(target_val, target_pred)\n",
    "    rmse = np.sqrt(mse)\n",
    "    print(f\"Region {i}: Average predicted volume: {np.mean(target_pred):.2f}, RMSE: {rmse:.2f}\")\n",
    "\n",
    "    # Save model and predictions\n",
    "    models.append(model)\n",
    "    predictions.append((target_val, target_pred))\n"
   ]
  },
  {
   "cell_type": "markdown",
   "id": "927d2216-b989-45eb-9b1c-95fdf31e5dc2",
   "metadata": {},
   "source": [
    "## Model Results Summary\n",
    "\n",
    "- All regions predicted averages match the actual reserves closely.  \n",
    "- RMSE is lowest for Region 1 (0.9), higher for Regions 0 and 2 (38-40).  "
   ]
  },
  {
   "cell_type": "code",
   "execution_count": 17,
   "id": "6bd4b98e-be99-4fb9-9b0c-cb798b379102",
   "metadata": {},
   "outputs": [
    {
     "name": "stdout",
     "output_type": "stream",
     "text": [
      "Breakeven volume per well: 111.11 thousand barrels\n",
      "Region 0: {'average_predicted': np.float64(92.39879990657768), 'breakeven_per_well': 111.11111111111111}\n",
      "Region 1: {'average_predicted': np.float64(68.71287803913762), 'breakeven_per_well': 111.11111111111111}\n",
      "Region 2: {'average_predicted': np.float64(94.77102387765939), 'breakeven_per_well': 111.11111111111111}\n"
     ]
    }
   ],
   "source": [
    "# Step 3: Prepare for Profit Calculation\n",
    "\n",
    "# Business conditions\n",
    "budget = 100000000  # USD\n",
    "wells_to_develop = 200\n",
    "revenue_per_thousand_barrel = 4500\n",
    "\n",
    "# Calculate breakeven volume per well\n",
    "breakeven_volume_per_well = budget / (wells_to_develop * revenue_per_thousand_barrel)\n",
    "print(f\"Breakeven volume per well: {breakeven_volume_per_well:.2f} thousand barrels\")\n",
    "\n",
    "# Store results in a dictionary\n",
    "region_stats = {}\n",
    "\n",
    "# Compare with average predicted reserves for each region\n",
    "for i, (target_val, target_pred) in enumerate(predictions):\n",
    "    avg_predicted = np.mean(target_pred)\n",
    "    region_stats[f\"Region {i}\"] = {\n",
    "        \"average_predicted\": avg_predicted,\n",
    "        \"breakeven_per_well\": breakeven_volume_per_well\n",
    "    }\n",
    "\n",
    "# Display dictionary\n",
    "for region, stats in region_stats.items():\n",
    "    print(f\"{region}: {stats}\")"
   ]
  },
  {
   "cell_type": "markdown",
   "id": "2da6a137-d479-49eb-beff-75efc14b3dff",
   "metadata": {},
   "source": [
    "## Profit Preparation Summary\n",
    "\n",
    "- Breakeven volume per well: 111.1 thousand barrels  \n",
    "- Average predicted reserves are below breakeven in all regions  \n",
    "- Careful selection of the top 200 wells is needed to ensure profit\n"
   ]
  },
  {
   "cell_type": "code",
   "execution_count": 18,
   "id": "c6cde156-fe04-41c9-bcaf-dfd4e384e9f3",
   "metadata": {},
   "outputs": [],
   "source": [
    "# Step 4: Profit Calculation Function\n",
    "def calculate_profit(predicted_volumes, budget=budget, revenue=revenue_per_thousand_barrel, wells_to_develop=200, sample_size=500):\n",
    "    # Sample 500 wells randomly\n",
    "    sampled_wells = np.random.choice(predicted_volumes, size=sample_size, replace=False)\n",
    "\n",
    "    # Select top 200 wells\n",
    "    top_wells = np.sort(sampled_wells)[-wells_to_develop:]\n",
    "\n",
    "    # Calculate total volume\n",
    "    total_volume = top_wells.sum()\n",
    "\n",
    "    # Calculate profit\n",
    "    profit = total_volume * revenue - budget\n",
    "    return profit"
   ]
  },
  {
   "cell_type": "code",
   "execution_count": 19,
   "id": "edce4d07-ab84-4a29-81fb-42aaaf3edc63",
   "metadata": {},
   "outputs": [
    {
     "name": "stdout",
     "output_type": "stream",
     "text": [
      "Estimated profit for Region 0 (top 200 wells): $4,405,557.79\n"
     ]
    }
   ],
   "source": [
    "# Test profit calculation funciton for Region 0\n",
    "x, target_pred_0 = predictions[0]  # Region 0 predicted reserves\n",
    "profit_region_0 = calculate_profit(target_pred_0)\n",
    "print(f\"Estimated profit for Region 0 (top 200 wells): ${profit_region_0:,.2f}\")"
   ]
  },
  {
   "cell_type": "code",
   "execution_count": 20,
   "id": "6a438f7e-29cc-4c0b-a67a-c0099c12e9b6",
   "metadata": {},
   "outputs": [],
   "source": [
    "def bootstrap_profit(predicted_volumes, n_samples=1000):\n",
    "    profits = []\n",
    "    for _ in range(n_samples):\n",
    "        profit = calculate_profit(predicted_volumes)  # sampling is done inside calculate_profit()\n",
    "        profits.append(profit)\n",
    "    \n",
    "    profits = np.array(profits)\n",
    "    mean_profit = np.mean(profits)\n",
    "    ci_lower, ci_upper = np.percentile(profits, [2.5, 97.5])\n",
    "    loss_risk = np.mean(profits < 0) * 100  # percentage of loss cases\n",
    "    return mean_profit, ci_lower, ci_upper, loss_risk"
   ]
  },
  {
   "cell_type": "code",
   "execution_count": 21,
   "id": "e35a3ddc-c9ed-42d5-bba0-f57b1a1883a4",
   "metadata": {},
   "outputs": [
    {
     "name": "stdout",
     "output_type": "stream",
     "text": [
      "Region 0:\n",
      "  Mean profit = $3,237,200.32\n",
      "  95% CI = ($973,616.17, $5,374,696.98)\n",
      "  Risk of losses = 0.20%\n",
      "\n",
      "Region 1:\n",
      "  Mean profit = $4,415,526.47\n",
      "  95% CI = ($696,659.99, $8,535,909.70)\n",
      "  Risk of losses = 0.90%\n",
      "\n",
      "Region 2:\n",
      "  Mean profit = $2,707,698.29\n",
      "  95% CI = ($878,291.51, $4,564,715.28)\n",
      "  Risk of losses = 0.10%\n",
      "\n"
     ]
    }
   ],
   "source": [
    "# Evaluate each region using bootstrapping\n",
    "for i, (target_val, target_pred) in enumerate(predictions):\n",
    "    mean_profit, ci_lower, ci_upper, loss_risk = bootstrap_profit(target_pred)\n",
    "    print(f\"Region {i}:\")\n",
    "    print(f\"  Mean profit = ${mean_profit:,.2f}\")\n",
    "    print(f\"  95% CI = (${ci_lower:,.2f}, ${ci_upper:,.2f})\")\n",
    "    print(f\"  Risk of losses = {loss_risk:.2f}%\\n\")"
   ]
  },
  {
   "cell_type": "code",
   "execution_count": 22,
   "id": "c070cf6d",
   "metadata": {},
   "outputs": [],
   "source": [
    "# Generate bootstrapped profit samples for visualization\n",
    "profit_samples = {}\n",
    "\n",
    "for i, (target_val, target_pred) in enumerate(predictions):\n",
    "    predicted_volumes = target_pred  # predictions from the model\n",
    "    profits = []\n",
    "    n_samples = 1000\n",
    "    top_n = 200\n",
    "    for _ in range(n_samples):\n",
    "        sample = np.random.choice(predicted_volumes, size=len(predicted_volumes), replace=True)\n",
    "        profit = calculate_profit(sample, top_n)\n",
    "        profits.append(profit)\n",
    "    profit_samples[i] = np.array(profits)\n"
   ]
  },
  {
   "cell_type": "code",
   "execution_count": 23,
   "id": "9d75118e",
   "metadata": {},
   "outputs": [
    {
     "data": {
      "image/png": "[encoded data removed]",
      "text/plain": [
       "<Figure size 1800x500 with 3 Axes>"
      ]
     },
     "metadata": {},
     "output_type": "display_data"
    }
   ],
   "source": [
    "# visualization of profit distributions\n",
    "fig, axs = plt.subplots(1, 3, figsize=(18, 5), sharey=True)\n",
    "\n",
    "colors = ['skyblue', 'salmon', 'lightgreen']\n",
    "\n",
    "for i in range(3):\n",
    "    axs[i].hist(profit_samples[i], bins=50, color=colors[i], alpha=0.7)\n",
    "    axs[i].axvline(np.mean(profit_samples[i]), color='black', linestyle='dashed', linewidth=1.5, label='Mean Profit')\n",
    "    axs[i].set_title(f'Region {i} Profit Distribution')\n",
    "    axs[i].set_xlabel('Profit ($)')\n",
    "    axs[i].set_ylabel('Frequency')\n",
    "    axs[i].legend()\n",
    "\n",
    "plt.suptitle('Bootstrapped Profit Distributions for Each Region', fontsize=16)\n",
    "plt.tight_layout(rect=[0, 0.03, 1, 0.95])\n",
    "plt.show()"
   ]
  },
  {
   "cell_type": "markdown",
   "id": "420ae8f8-bc59-4e10-84a5-2345207ddfcd",
   "metadata": {},
   "source": [
    "## Step 6: Final Recommendation\n",
    "\n",
    "- All regions meet the risk requirement (<2.5%).  \n",
    "- **Region 1** has the highest mean profit (4.4M) with a 1.8% risk of losses.\n",
    "- Regions 0 and 2 are the saffest with a risk of loss 0.03% and mean profit of (2-3M)\n",
    "- Recommendation: Develop the top 200 wells in **Region 1**.  \n",
    "- Justification: Region 1 has the highest expected profit and the risk of losses is below the 2.5% threshold. Although Regions 0 and 2 are slightly safer, they yield lower profits. For these reasons I beleve Region 1 to be the best choice"
   ]
  },
  {
   "cell_type": "code",
   "execution_count": null,
   "id": "7bdab833-927f-4a2a-9fbd-8b58021cc2b5",
   "metadata": {},
   "outputs": [],
   "source": []
  }
 ],
 "metadata": {
  "kernelspec": {
   "display_name": "Python 3",
   "language": "python",
   "name": "python3"
  },
  "language_info": {
   "codemirror_mode": {
    "name": "ipython",
    "version": 3
   },
   "file_extension": ".py",
   "mimetype": "text/x-python",
   "name": "python",
   "nbconvert_exporter": "python",
   "pygments_lexer": "ipython3",
   "version": "3.12.3"
  }
 },
 "nbformat": 4,
 "nbformat_minor": 5
}

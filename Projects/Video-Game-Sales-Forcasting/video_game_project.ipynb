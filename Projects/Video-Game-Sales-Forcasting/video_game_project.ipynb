{
 "cells": [
  {
   "cell_type": "markdown",
   "metadata": {
    "id": "9LMszr5T0Oft"
   },
   "source": [
    "# Video Game Sales Analysis Project\n",
    "## Project Overview\n",
    "\n",
    "In this project, you'll analyze video game sales data to identify patterns that determine a game's success. Working as an analyst for the online store Ice, you'll use this information to help plan future advertising campaigns.\n",
    "\n",
    "## Environment Setup and Required Libraries"
   ]
  },
  {
   "cell_type": "code",
   "execution_count": 108,
   "metadata": {
    "id": "uoUK3_uG0O1A"
   },
   "outputs": [],
   "source": [
    "# Import all required libraries\n",
    "import pandas as pd\n",
    "import matplotlib.pyplot as plt\n",
    "import seaborn as sns\n",
    "import scipy.stats as stats\n",
    "import numpy as np"
   ]
  },
  {
   "cell_type": "markdown",
   "metadata": {
    "id": "elxRwYBn0STd"
   },
   "source": [
    "## Step 1: Loading and Initial Data Exploration\n",
    "\n",
    "First, let's load our dataset and examine its basic properties:"
   ]
  },
  {
   "cell_type": "code",
   "execution_count": null,
   "metadata": {
    "id": "e4Ic2Rpq0Sq9"
   },
   "outputs": [],
   "source": [
    "# Load the dataset\n",
    "file_path = 'data/games.csv'\n",
    "df = pd.read_csv(file_path)"
   ]
  },
  {
   "cell_type": "code",
   "execution_count": 110,
   "metadata": {
    "id": "sTug7Lxo0VnO"
   },
   "outputs": [
    {
     "data": {
      "text/html": [
       "<div>\n",
       "<style scoped>\n",
       "    .dataframe tbody tr th:only-of-type {\n",
       "        vertical-align: middle;\n",
       "    }\n",
       "\n",
       "    .dataframe tbody tr th {\n",
       "        vertical-align: top;\n",
       "    }\n",
       "\n",
       "    .dataframe thead th {\n",
       "        text-align: right;\n",
       "    }\n",
       "</style>\n",
       "<table border=\"1\" class=\"dataframe\">\n",
       "  <thead>\n",
       "    <tr style=\"text-align: right;\">\n",
       "      <th></th>\n",
       "      <th>Name</th>\n",
       "      <th>Platform</th>\n",
       "      <th>Year_of_Release</th>\n",
       "      <th>Genre</th>\n",
       "      <th>NA_sales</th>\n",
       "      <th>EU_sales</th>\n",
       "      <th>JP_sales</th>\n",
       "      <th>Other_sales</th>\n",
       "      <th>Critic_Score</th>\n",
       "      <th>User_Score</th>\n",
       "      <th>Rating</th>\n",
       "    </tr>\n",
       "  </thead>\n",
       "  <tbody>\n",
       "    <tr>\n",
       "      <th>0</th>\n",
       "      <td>Wii Sports</td>\n",
       "      <td>Wii</td>\n",
       "      <td>2006.0</td>\n",
       "      <td>Sports</td>\n",
       "      <td>41.36</td>\n",
       "      <td>28.96</td>\n",
       "      <td>3.77</td>\n",
       "      <td>8.45</td>\n",
       "      <td>76.0</td>\n",
       "      <td>8</td>\n",
       "      <td>E</td>\n",
       "    </tr>\n",
       "    <tr>\n",
       "      <th>1</th>\n",
       "      <td>Super Mario Bros.</td>\n",
       "      <td>NES</td>\n",
       "      <td>1985.0</td>\n",
       "      <td>Platform</td>\n",
       "      <td>29.08</td>\n",
       "      <td>3.58</td>\n",
       "      <td>6.81</td>\n",
       "      <td>0.77</td>\n",
       "      <td>NaN</td>\n",
       "      <td>NaN</td>\n",
       "      <td>NaN</td>\n",
       "    </tr>\n",
       "    <tr>\n",
       "      <th>2</th>\n",
       "      <td>Mario Kart Wii</td>\n",
       "      <td>Wii</td>\n",
       "      <td>2008.0</td>\n",
       "      <td>Racing</td>\n",
       "      <td>15.68</td>\n",
       "      <td>12.76</td>\n",
       "      <td>3.79</td>\n",
       "      <td>3.29</td>\n",
       "      <td>82.0</td>\n",
       "      <td>8.3</td>\n",
       "      <td>E</td>\n",
       "    </tr>\n",
       "    <tr>\n",
       "      <th>3</th>\n",
       "      <td>Wii Sports Resort</td>\n",
       "      <td>Wii</td>\n",
       "      <td>2009.0</td>\n",
       "      <td>Sports</td>\n",
       "      <td>15.61</td>\n",
       "      <td>10.93</td>\n",
       "      <td>3.28</td>\n",
       "      <td>2.95</td>\n",
       "      <td>80.0</td>\n",
       "      <td>8</td>\n",
       "      <td>E</td>\n",
       "    </tr>\n",
       "    <tr>\n",
       "      <th>4</th>\n",
       "      <td>Pokemon Red/Pokemon Blue</td>\n",
       "      <td>GB</td>\n",
       "      <td>1996.0</td>\n",
       "      <td>Role-Playing</td>\n",
       "      <td>11.27</td>\n",
       "      <td>8.89</td>\n",
       "      <td>10.22</td>\n",
       "      <td>1.00</td>\n",
       "      <td>NaN</td>\n",
       "      <td>NaN</td>\n",
       "      <td>NaN</td>\n",
       "    </tr>\n",
       "  </tbody>\n",
       "</table>\n",
       "</div>"
      ],
      "text/plain": [
       "                       Name Platform  Year_of_Release         Genre  NA_sales  \\\n",
       "0                Wii Sports      Wii           2006.0        Sports     41.36   \n",
       "1         Super Mario Bros.      NES           1985.0      Platform     29.08   \n",
       "2            Mario Kart Wii      Wii           2008.0        Racing     15.68   \n",
       "3         Wii Sports Resort      Wii           2009.0        Sports     15.61   \n",
       "4  Pokemon Red/Pokemon Blue       GB           1996.0  Role-Playing     11.27   \n",
       "\n",
       "   EU_sales  JP_sales  Other_sales  Critic_Score User_Score Rating  \n",
       "0     28.96      3.77         8.45          76.0          8      E  \n",
       "1      3.58      6.81         0.77           NaN        NaN    NaN  \n",
       "2     12.76      3.79         3.29          82.0        8.3      E  \n",
       "3     10.93      3.28         2.95          80.0          8      E  \n",
       "4      8.89     10.22         1.00           NaN        NaN    NaN  "
      ]
     },
     "metadata": {},
     "output_type": "display_data"
    },
    {
     "name": "stdout",
     "output_type": "stream",
     "text": [
      "<class 'pandas.core.frame.DataFrame'>\n",
      "RangeIndex: 16715 entries, 0 to 16714\n",
      "Data columns (total 11 columns):\n",
      " #   Column           Non-Null Count  Dtype  \n",
      "---  ------           --------------  -----  \n",
      " 0   Name             16713 non-null  object \n",
      " 1   Platform         16715 non-null  object \n",
      " 2   Year_of_Release  16446 non-null  float64\n",
      " 3   Genre            16713 non-null  object \n",
      " 4   NA_sales         16715 non-null  float64\n",
      " 5   EU_sales         16715 non-null  float64\n",
      " 6   JP_sales         16715 non-null  float64\n",
      " 7   Other_sales      16715 non-null  float64\n",
      " 8   Critic_Score     8137 non-null   float64\n",
      " 9   User_Score       10014 non-null  object \n",
      " 10  Rating           9949 non-null   object \n",
      "dtypes: float64(6), object(5)\n",
      "memory usage: 1.4+ MB\n"
     ]
    }
   ],
   "source": [
    "# Display basic information about the dataset\n",
    "display(df.head())\n",
    "df.info()"
   ]
  },
  {
   "cell_type": "code",
   "execution_count": 111,
   "metadata": {
    "id": "H54YzTNs0aAV"
   },
   "outputs": [
    {
     "name": "stdout",
     "output_type": "stream",
     "text": [
      "Number of duplicate rows: 0\n"
     ]
    }
   ],
   "source": [
    "# Check for duplicate entries\n",
    "duplicates = df.duplicated().sum()\n",
    "print(f'Number of duplicate rows: {duplicates}')"
   ]
  },
  {
   "cell_type": "markdown",
   "metadata": {
    "id": "7Dy9svZV0lAt"
   },
   "source": [
    "### Key Questions to Answer:\n",
    "- What's the total number of records in our dataset?\n",
    "- What data types are present in each column?\n",
    "- Are there any obvious issues with the data?\n",
    "- Do we see any immediate patterns or anomalies?"
   ]
  },
  {
   "cell_type": "markdown",
   "metadata": {},
   "source": [
    "**1. Total number of records:**\n",
    "There are 167715 rows in the dataset.\n",
    "\n",
    "**2. Data types in each column:**\n",
    "The are either object or float64 values.\n",
    "\n",
    "**3. Obvious issues in the data:**\n",
    "- Missing values in several columns (Name, Genre, Year_of_Release, Critic_Score, User_Score, Rating).\n",
    "\n",
    "**4. Immediate patterns or anomalies:**\n",
    "- Certain columns like year, are in float from and should be in int form.\n",
    "- It seems that the years in the 1900s there are no ratings or scores provided."
   ]
  },
  {
   "cell_type": "markdown",
   "metadata": {
    "id": "sJtUdFp30oet"
   },
   "source": [
    "## Step 2: Data Preparation\n",
    "\n",
    "### 2.1 Standardizing Column Names"
   ]
  },
  {
   "cell_type": "code",
   "execution_count": 112,
   "metadata": {
    "id": "0UbeqYMh0lW2"
   },
   "outputs": [],
   "source": [
    "# Convert column names to lowercase\n",
    "df.columns = df.columns.str.lower()"
   ]
  },
  {
   "cell_type": "code",
   "execution_count": 113,
   "metadata": {
    "id": "zNR2bWIf0qTp"
   },
   "outputs": [
    {
     "name": "stdout",
     "output_type": "stream",
     "text": [
      "Index(['name', 'platform', 'year_of_release', 'genre', 'na_sales', 'eu_sales',\n",
      "       'jp_sales', 'other_sales', 'critic_score', 'user_score', 'rating'],\n",
      "      dtype='object')\n"
     ]
    }
   ],
   "source": [
    "# Verify the changes\n",
    "print(df.columns)"
   ]
  },
  {
   "cell_type": "markdown",
   "metadata": {
    "id": "hyWGqpK_0sb2"
   },
   "source": [
    "### 2.2 Data Type Conversion"
   ]
  },
  {
   "cell_type": "code",
   "execution_count": 114,
   "metadata": {
    "id": "bum4x2eG0uJe"
   },
   "outputs": [
    {
     "data": {
      "text/plain": [
       "name                object\n",
       "platform            object\n",
       "year_of_release    float64\n",
       "genre               object\n",
       "na_sales           float64\n",
       "eu_sales           float64\n",
       "jp_sales           float64\n",
       "other_sales        float64\n",
       "critic_score       float64\n",
       "user_score          object\n",
       "rating              object\n",
       "dtype: object"
      ]
     },
     "execution_count": 114,
     "metadata": {},
     "output_type": "execute_result"
    }
   ],
   "source": [
    "# Check current data types\n",
    "df.dtypes"
   ]
  },
  {
   "cell_type": "code",
   "execution_count": 115,
   "metadata": {
    "id": "j6wGqKZB0uh9"
   },
   "outputs": [
    {
     "data": {
      "text/plain": [
       "name                object\n",
       "platform            object\n",
       "year_of_release      Int64\n",
       "genre               object\n",
       "na_sales           float64\n",
       "eu_sales           float64\n",
       "jp_sales           float64\n",
       "other_sales        float64\n",
       "critic_score       float64\n",
       "user_score          object\n",
       "rating              object\n",
       "dtype: object"
      ]
     },
     "execution_count": 115,
     "metadata": {},
     "output_type": "execute_result"
    }
   ],
   "source": [
    "# Make changes to data types if necessary\n",
    "# Convert year_of_release to integer (nullable Int64 to handle NaNs)\n",
    "df['year_of_release'] = df['year_of_release'].astype('Int64')\n",
    "\n",
    "# Confirm changes\n",
    "df.dtypes"
   ]
  },
  {
   "cell_type": "markdown",
   "metadata": {},
   "source": [
    "### Data Type Adjustments\n",
    "- year_of_release: Originally float64, which is not appropriate. I converted it to type Int64 this should allow easyer handeling of the scores."
   ]
  },
  {
   "cell_type": "code",
   "execution_count": 116,
   "metadata": {
    "id": "u_2YXNQR1UKG"
   },
   "outputs": [
    {
     "name": "stdout",
     "output_type": "stream",
     "text": [
      "0        8.0\n",
      "1        NaN\n",
      "2        8.3\n",
      "3        8.0\n",
      "4        NaN\n",
      "        ... \n",
      "16710    NaN\n",
      "16711    NaN\n",
      "16712    NaN\n",
      "16713    NaN\n",
      "16714    NaN\n",
      "Name: user_score, Length: 16715, dtype: float64\n"
     ]
    }
   ],
   "source": [
    "# Pay attention to the abbreviation TBD (to be determined). Specify how you intend to handle such cases.\n",
    "# Replace 'tbd' in user_score with NaN and convert to float\n",
    "df['user_score'] = pd.to_numeric(df['user_score'], errors='coerce')\n",
    "\n",
    "# Confirm changes\n",
    "print(df['user_score'])"
   ]
  },
  {
   "cell_type": "markdown",
   "metadata": {
    "id": "Op-5jvJA04du"
   },
   "source": [
    "### 2.3 Handling Missing Values"
   ]
  },
  {
   "cell_type": "code",
   "execution_count": 117,
   "metadata": {
    "id": "kgQM57IU03yn"
   },
   "outputs": [
    {
     "name": "stdout",
     "output_type": "stream",
     "text": [
      "name                  2\n",
      "platform              0\n",
      "year_of_release     269\n",
      "genre                 2\n",
      "na_sales              0\n",
      "eu_sales              0\n",
      "jp_sales              0\n",
      "other_sales           0\n",
      "critic_score       8578\n",
      "user_score         9125\n",
      "rating             6766\n",
      "dtype: int64\n"
     ]
    }
   ],
   "source": [
    "# Examine missing values\n",
    "missing_values = df.isna().sum()\n",
    "print(missing_values)"
   ]
  },
  {
   "cell_type": "code",
   "execution_count": 118,
   "metadata": {
    "id": "IbjVBu5H06kW"
   },
   "outputs": [
    {
     "name": "stdout",
     "output_type": "stream",
     "text": [
      "name                0.01\n",
      "platform            0.00\n",
      "year_of_release     1.61\n",
      "genre               0.01\n",
      "na_sales            0.00\n",
      "eu_sales            0.00\n",
      "jp_sales            0.00\n",
      "other_sales         0.00\n",
      "critic_score       51.32\n",
      "user_score         54.59\n",
      "rating             40.48\n",
      "dtype: float64\n"
     ]
    }
   ],
   "source": [
    "# Calculate percentage of missing values\n",
    "missing_percent = (missing_values / len(df)) * 100\n",
    "print(missing_percent.round(2))"
   ]
  },
  {
   "cell_type": "code",
   "execution_count": 119,
   "metadata": {
    "id": "7JKmuhxF07a3"
   },
   "outputs": [
    {
     "name": "stdout",
     "output_type": "stream",
     "text": [
      "Missing critic_score by year:\n",
      "year_of_release\n",
      "2009    775\n",
      "2010    755\n",
      "2008    712\n",
      "2011    636\n",
      "2007    505\n",
      "2006    386\n",
      "2015    381\n",
      "1998    351\n",
      "2012    332\n",
      "2014    320\n",
      "1999    299\n",
      "2005    284\n",
      "1997    272\n",
      "2013    271\n",
      "2016    270\n",
      "1996    255\n",
      "1995    219\n",
      "2000    207\n",
      "2002    202\n",
      "2004    201\n",
      "2003    190\n",
      "2001    156\n",
      "1994    120\n",
      "1993     60\n",
      "1981     46\n",
      "1992     42\n",
      "1991     41\n",
      "1982     36\n",
      "1986     21\n",
      "1989     17\n",
      "1983     17\n",
      "1990     16\n",
      "1987     16\n",
      "1988     14\n",
      "1984     14\n",
      "1985     13\n",
      "1980      9\n",
      "Name: name, dtype: int64\n",
      "\n",
      "Missing rating by platform:\n",
      "platform\n",
      "PS      989\n",
      "DS      878\n",
      "PS2     680\n",
      "PSP     665\n",
      "PS3     379\n",
      "N64     319\n",
      "Wii     318\n",
      "GBA     300\n",
      "3DS     292\n",
      "PSV     279\n",
      "SNES    239\n",
      "X360    210\n",
      "PC      200\n",
      "SAT     173\n",
      "PS4     137\n",
      "2600    133\n",
      "NES      98\n",
      "GB       98\n",
      "XB       91\n",
      "GC       87\n",
      "XOne     61\n",
      "WiiU     42\n",
      "DC       38\n",
      "GEN      27\n",
      "NG       12\n",
      "SCD       6\n",
      "WS        6\n",
      "3DO       3\n",
      "TG16      2\n",
      "PCFX      1\n",
      "GG        1\n",
      "Name: name, dtype: int64\n"
     ]
    }
   ],
   "source": [
    "# Analyze patterns in missing values\n",
    "# Explore if missing critic_score or user_score is tied to certain years\n",
    "missing_by_year = df[df['critic_score'].isna()].groupby('year_of_release')['name'].count()\n",
    "\n",
    "print(\"Missing critic_score by year:\")\n",
    "print(missing_by_year.sort_values(ascending=False))\n",
    "\n",
    "# Explore missing ratings by platform\n",
    "missing_rating_by_platform = df[df['rating'].isna()].groupby('platform')['name'].count()\n",
    "\n",
    "print(\"\\nMissing rating by platform:\")\n",
    "print(missing_rating_by_platform.sort_values(ascending=False))"
   ]
  },
  {
   "cell_type": "code",
   "execution_count": 120,
   "metadata": {},
   "outputs": [
    {
     "name": "stdout",
     "output_type": "stream",
     "text": [
      "      name platform  year_of_release genre  na_sales  eu_sales  jp_sales  \\\n",
      "659    NaN      GEN             1993   NaN      1.78      0.53      0.00   \n",
      "14244  NaN      GEN             1993   NaN      0.00      0.00      0.03   \n",
      "\n",
      "       other_sales  critic_score  user_score rating  \n",
      "659           0.08           NaN         NaN    NaN  \n",
      "14244         0.00           NaN         NaN    NaN  \n"
     ]
    }
   ],
   "source": [
    "# looking into the 2 missing name values\n",
    "print(df[df['name'].isna()])"
   ]
  },
  {
   "cell_type": "code",
   "execution_count": 121,
   "metadata": {
    "id": "NWeZ6Pj008iW"
   },
   "outputs": [],
   "source": [
    "# Handle missing values based on analysis\n",
    "# Your code here to handle missing values according to your strategy\n",
    "# Drop rows with missing year_of_release since it's essential for time-based analysis\n",
    "df = df.dropna(subset=['year_of_release'])\n",
    "\n",
    "# Fill missing ESRB ratings with 'Unrated' to allow grouping\n",
    "df['rating'] = df['rating'].fillna('Unrated')\n",
    "\n",
    "# Removing the rows with no name\n",
    "df = df.dropna(subset=['name'])"
   ]
  },
  {
   "cell_type": "markdown",
   "metadata": {
    "id": "jVIFovLz091G"
   },
   "source": [
    "### Why Are Values Missing?\n",
    "Missing values are likely due to incomplete or incorrect data entries. for the relase year it seams to be just incomplet. For the user and cruic scores could be just because the game didn't get reviewed, and for the ratings most of them are for old or international games so they probably didn't get official ESRB ratings. The name and genre values are of the same row and seem to only have no usful data, maybe they where put in on acident. \n",
    "\n",
    "### Fixes\n",
    "- Dropped missing year_of_release and name/genre rows: I fugired for the taks we will be doing the years are very important as are the genres.\n",
    "- Filled missing ratings with Unrated: So I can still group and analyze all games by rating.\n",
    "- Left critic_scor and user_score as NaN: This shouldn't effect much of the data "
   ]
  },
  {
   "cell_type": "markdown",
   "metadata": {
    "id": "NgRdPJYJ1ZKG"
   },
   "source": [
    "### 2.4 Calculate Total Sales"
   ]
  },
  {
   "cell_type": "code",
   "execution_count": 122,
   "metadata": {
    "id": "rc_LWvmr1Zj3"
   },
   "outputs": [
    {
     "name": "stdout",
     "output_type": "stream",
     "text": [
      "                       name platform  year_of_release         genre  na_sales  \\\n",
      "0                Wii Sports      Wii             2006        Sports     41.36   \n",
      "1         Super Mario Bros.      NES             1985      Platform     29.08   \n",
      "2            Mario Kart Wii      Wii             2008        Racing     15.68   \n",
      "3         Wii Sports Resort      Wii             2009        Sports     15.61   \n",
      "4  Pokemon Red/Pokemon Blue       GB             1996  Role-Playing     11.27   \n",
      "\n",
      "   eu_sales  jp_sales  other_sales  critic_score  user_score   rating  \\\n",
      "0     28.96      3.77         8.45          76.0         8.0        E   \n",
      "1      3.58      6.81         0.77           NaN         NaN  Unrated   \n",
      "2     12.76      3.79         3.29          82.0         8.3        E   \n",
      "3     10.93      3.28         2.95          80.0         8.0        E   \n",
      "4      8.89     10.22         1.00           NaN         NaN  Unrated   \n",
      "\n",
      "   total_sales  \n",
      "0        82.54  \n",
      "1        40.24  \n",
      "2        35.52  \n",
      "3        32.77  \n",
      "4        31.38  \n"
     ]
    }
   ],
   "source": [
    "# Calculate total sales across all regions and put them in a different column\n",
    "df['total_sales'] = df['na_sales'] + df['eu_sales'] + df['jp_sales'] + df['other_sales']\n",
    "\n",
    "# Preview the new column\n",
    "print(df.head())"
   ]
  },
  {
   "cell_type": "markdown",
   "metadata": {
    "id": "Jt9oL4lS1ePu"
   },
   "source": [
    "# Step 3: Analyzing Video Game Sales Data\n",
    "\n",
    "## 3.1 Temporal Analysis of Game Releases\n",
    "Let's first examine the distribution of game releases across different years to understand our data's coverage and significance:"
   ]
  },
  {
   "cell_type": "code",
   "execution_count": 123,
   "metadata": {
    "id": "DaxQrjBNGUuy"
   },
   "outputs": [
    {
     "data": {
      "text/html": [
       "<div>\n",
       "<style scoped>\n",
       "    .dataframe tbody tr th:only-of-type {\n",
       "        vertical-align: middle;\n",
       "    }\n",
       "\n",
       "    .dataframe tbody tr th {\n",
       "        vertical-align: top;\n",
       "    }\n",
       "\n",
       "    .dataframe thead th {\n",
       "        text-align: right;\n",
       "    }\n",
       "</style>\n",
       "<table border=\"1\" class=\"dataframe\">\n",
       "  <thead>\n",
       "    <tr style=\"text-align: right;\">\n",
       "      <th></th>\n",
       "      <th>year_of_release</th>\n",
       "      <th>game_count</th>\n",
       "    </tr>\n",
       "  </thead>\n",
       "  <tbody>\n",
       "    <tr>\n",
       "      <th>0</th>\n",
       "      <td>1980</td>\n",
       "      <td>9</td>\n",
       "    </tr>\n",
       "    <tr>\n",
       "      <th>1</th>\n",
       "      <td>1981</td>\n",
       "      <td>46</td>\n",
       "    </tr>\n",
       "    <tr>\n",
       "      <th>2</th>\n",
       "      <td>1982</td>\n",
       "      <td>36</td>\n",
       "    </tr>\n",
       "    <tr>\n",
       "      <th>3</th>\n",
       "      <td>1983</td>\n",
       "      <td>17</td>\n",
       "    </tr>\n",
       "    <tr>\n",
       "      <th>4</th>\n",
       "      <td>1984</td>\n",
       "      <td>14</td>\n",
       "    </tr>\n",
       "  </tbody>\n",
       "</table>\n",
       "</div>"
      ],
      "text/plain": [
       "   year_of_release  game_count\n",
       "0             1980           9\n",
       "1             1981          46\n",
       "2             1982          36\n",
       "3             1983          17\n",
       "4             1984          14"
      ]
     },
     "execution_count": 123,
     "metadata": {},
     "output_type": "execute_result"
    }
   ],
   "source": [
    "# Create a DataFrame with game releases by year\n",
    "games_per_year = df.groupby('year_of_release')['name'].count().reset_index()\n",
    "games_per_year.columns = ['year_of_release', 'game_count']\n",
    "\n",
    "# Preview the result\n",
    "games_per_year.head()"
   ]
  },
  {
   "cell_type": "code",
   "execution_count": 124,
   "metadata": {
    "id": "sZjP-hb61fIf"
   },
   "outputs": [
    {
     "data": {
      "image/png": "[encoded data removed]",
      "text/plain": [
       "<Figure size 1000x500 with 1 Axes>"
      ]
     },
     "metadata": {},
     "output_type": "display_data"
    }
   ],
   "source": [
    "# Visualize the distribution of games across years\n",
    "plt.figure(figsize=(10, 5))\n",
    "plt.bar(games_per_year['year_of_release'], games_per_year['game_count'])\n",
    "plt.title('Number of Games Released per Year')\n",
    "plt.xlabel('Year of Release')\n",
    "plt.ylabel('Number of Games')\n",
    "plt.show()"
   ]
  },
  {
   "cell_type": "code",
   "execution_count": 125,
   "metadata": {
    "id": "6hJ4jyLq1gIN"
   },
   "outputs": [
    {
     "data": {
      "text/html": [
       "<div>\n",
       "<style scoped>\n",
       "    .dataframe tbody tr th:only-of-type {\n",
       "        vertical-align: middle;\n",
       "    }\n",
       "\n",
       "    .dataframe tbody tr th {\n",
       "        vertical-align: top;\n",
       "    }\n",
       "\n",
       "    .dataframe thead tr th {\n",
       "        text-align: left;\n",
       "    }\n",
       "\n",
       "    .dataframe thead tr:last-of-type th {\n",
       "        text-align: right;\n",
       "    }\n",
       "</style>\n",
       "<table border=\"1\" class=\"dataframe\">\n",
       "  <thead>\n",
       "    <tr>\n",
       "      <th></th>\n",
       "      <th colspan=\"3\" halign=\"left\">total_sales</th>\n",
       "      <th>critic_score</th>\n",
       "      <th>user_score</th>\n",
       "    </tr>\n",
       "    <tr>\n",
       "      <th></th>\n",
       "      <th>count</th>\n",
       "      <th>sum</th>\n",
       "      <th>mean</th>\n",
       "      <th>mean</th>\n",
       "      <th>mean</th>\n",
       "    </tr>\n",
       "    <tr>\n",
       "      <th>year_of_release</th>\n",
       "      <th></th>\n",
       "      <th></th>\n",
       "      <th></th>\n",
       "      <th></th>\n",
       "      <th></th>\n",
       "    </tr>\n",
       "  </thead>\n",
       "  <tbody>\n",
       "    <tr>\n",
       "      <th>1980</th>\n",
       "      <td>9</td>\n",
       "      <td>11.38</td>\n",
       "      <td>1.26</td>\n",
       "      <td>NaN</td>\n",
       "      <td>NaN</td>\n",
       "    </tr>\n",
       "    <tr>\n",
       "      <th>1981</th>\n",
       "      <td>46</td>\n",
       "      <td>35.68</td>\n",
       "      <td>0.78</td>\n",
       "      <td>NaN</td>\n",
       "      <td>NaN</td>\n",
       "    </tr>\n",
       "    <tr>\n",
       "      <th>1982</th>\n",
       "      <td>36</td>\n",
       "      <td>28.88</td>\n",
       "      <td>0.80</td>\n",
       "      <td>NaN</td>\n",
       "      <td>NaN</td>\n",
       "    </tr>\n",
       "    <tr>\n",
       "      <th>1983</th>\n",
       "      <td>17</td>\n",
       "      <td>16.80</td>\n",
       "      <td>0.99</td>\n",
       "      <td>NaN</td>\n",
       "      <td>NaN</td>\n",
       "    </tr>\n",
       "    <tr>\n",
       "      <th>1984</th>\n",
       "      <td>14</td>\n",
       "      <td>50.35</td>\n",
       "      <td>3.60</td>\n",
       "      <td>NaN</td>\n",
       "      <td>NaN</td>\n",
       "    </tr>\n",
       "    <tr>\n",
       "      <th>1985</th>\n",
       "      <td>14</td>\n",
       "      <td>53.95</td>\n",
       "      <td>3.85</td>\n",
       "      <td>59.00</td>\n",
       "      <td>5.80</td>\n",
       "    </tr>\n",
       "    <tr>\n",
       "      <th>1986</th>\n",
       "      <td>21</td>\n",
       "      <td>37.08</td>\n",
       "      <td>1.77</td>\n",
       "      <td>NaN</td>\n",
       "      <td>NaN</td>\n",
       "    </tr>\n",
       "    <tr>\n",
       "      <th>1987</th>\n",
       "      <td>16</td>\n",
       "      <td>21.70</td>\n",
       "      <td>1.36</td>\n",
       "      <td>NaN</td>\n",
       "      <td>NaN</td>\n",
       "    </tr>\n",
       "    <tr>\n",
       "      <th>1988</th>\n",
       "      <td>15</td>\n",
       "      <td>47.21</td>\n",
       "      <td>3.15</td>\n",
       "      <td>64.00</td>\n",
       "      <td>2.20</td>\n",
       "    </tr>\n",
       "    <tr>\n",
       "      <th>1989</th>\n",
       "      <td>17</td>\n",
       "      <td>73.45</td>\n",
       "      <td>4.32</td>\n",
       "      <td>NaN</td>\n",
       "      <td>NaN</td>\n",
       "    </tr>\n",
       "    <tr>\n",
       "      <th>1990</th>\n",
       "      <td>16</td>\n",
       "      <td>49.37</td>\n",
       "      <td>3.09</td>\n",
       "      <td>NaN</td>\n",
       "      <td>NaN</td>\n",
       "    </tr>\n",
       "    <tr>\n",
       "      <th>1991</th>\n",
       "      <td>41</td>\n",
       "      <td>32.23</td>\n",
       "      <td>0.79</td>\n",
       "      <td>NaN</td>\n",
       "      <td>NaN</td>\n",
       "    </tr>\n",
       "    <tr>\n",
       "      <th>1992</th>\n",
       "      <td>43</td>\n",
       "      <td>76.16</td>\n",
       "      <td>1.77</td>\n",
       "      <td>85.00</td>\n",
       "      <td>8.20</td>\n",
       "    </tr>\n",
       "    <tr>\n",
       "      <th>1993</th>\n",
       "      <td>60</td>\n",
       "      <td>45.99</td>\n",
       "      <td>0.77</td>\n",
       "      <td>NaN</td>\n",
       "      <td>NaN</td>\n",
       "    </tr>\n",
       "    <tr>\n",
       "      <th>1994</th>\n",
       "      <td>121</td>\n",
       "      <td>79.23</td>\n",
       "      <td>0.65</td>\n",
       "      <td>69.00</td>\n",
       "      <td>6.30</td>\n",
       "    </tr>\n",
       "    <tr>\n",
       "      <th>1995</th>\n",
       "      <td>219</td>\n",
       "      <td>88.12</td>\n",
       "      <td>0.40</td>\n",
       "      <td>NaN</td>\n",
       "      <td>NaN</td>\n",
       "    </tr>\n",
       "    <tr>\n",
       "      <th>1996</th>\n",
       "      <td>263</td>\n",
       "      <td>199.15</td>\n",
       "      <td>0.76</td>\n",
       "      <td>89.88</td>\n",
       "      <td>8.40</td>\n",
       "    </tr>\n",
       "    <tr>\n",
       "      <th>1997</th>\n",
       "      <td>289</td>\n",
       "      <td>201.07</td>\n",
       "      <td>0.70</td>\n",
       "      <td>85.29</td>\n",
       "      <td>8.47</td>\n",
       "    </tr>\n",
       "    <tr>\n",
       "      <th>1998</th>\n",
       "      <td>379</td>\n",
       "      <td>256.31</td>\n",
       "      <td>0.68</td>\n",
       "      <td>81.82</td>\n",
       "      <td>8.51</td>\n",
       "    </tr>\n",
       "    <tr>\n",
       "      <th>1999</th>\n",
       "      <td>338</td>\n",
       "      <td>251.11</td>\n",
       "      <td>0.74</td>\n",
       "      <td>75.77</td>\n",
       "      <td>8.48</td>\n",
       "    </tr>\n",
       "    <tr>\n",
       "      <th>2000</th>\n",
       "      <td>350</td>\n",
       "      <td>201.66</td>\n",
       "      <td>0.58</td>\n",
       "      <td>69.35</td>\n",
       "      <td>7.53</td>\n",
       "    </tr>\n",
       "    <tr>\n",
       "      <th>2001</th>\n",
       "      <td>482</td>\n",
       "      <td>331.46</td>\n",
       "      <td>0.69</td>\n",
       "      <td>71.41</td>\n",
       "      <td>7.59</td>\n",
       "    </tr>\n",
       "    <tr>\n",
       "      <th>2002</th>\n",
       "      <td>829</td>\n",
       "      <td>394.97</td>\n",
       "      <td>0.48</td>\n",
       "      <td>69.05</td>\n",
       "      <td>7.59</td>\n",
       "    </tr>\n",
       "    <tr>\n",
       "      <th>2003</th>\n",
       "      <td>775</td>\n",
       "      <td>357.54</td>\n",
       "      <td>0.46</td>\n",
       "      <td>70.18</td>\n",
       "      <td>7.86</td>\n",
       "    </tr>\n",
       "    <tr>\n",
       "      <th>2004</th>\n",
       "      <td>762</td>\n",
       "      <td>418.68</td>\n",
       "      <td>0.55</td>\n",
       "      <td>69.39</td>\n",
       "      <td>7.75</td>\n",
       "    </tr>\n",
       "    <tr>\n",
       "      <th>2005</th>\n",
       "      <td>939</td>\n",
       "      <td>457.82</td>\n",
       "      <td>0.49</td>\n",
       "      <td>68.82</td>\n",
       "      <td>7.51</td>\n",
       "    </tr>\n",
       "    <tr>\n",
       "      <th>2006</th>\n",
       "      <td>1006</td>\n",
       "      <td>517.71</td>\n",
       "      <td>0.51</td>\n",
       "      <td>67.34</td>\n",
       "      <td>7.25</td>\n",
       "    </tr>\n",
       "    <tr>\n",
       "      <th>2007</th>\n",
       "      <td>1197</td>\n",
       "      <td>604.75</td>\n",
       "      <td>0.51</td>\n",
       "      <td>66.18</td>\n",
       "      <td>6.90</td>\n",
       "    </tr>\n",
       "    <tr>\n",
       "      <th>2008</th>\n",
       "      <td>1427</td>\n",
       "      <td>671.50</td>\n",
       "      <td>0.47</td>\n",
       "      <td>65.90</td>\n",
       "      <td>6.95</td>\n",
       "    </tr>\n",
       "    <tr>\n",
       "      <th>2009</th>\n",
       "      <td>1426</td>\n",
       "      <td>658.82</td>\n",
       "      <td>0.46</td>\n",
       "      <td>67.55</td>\n",
       "      <td>6.99</td>\n",
       "    </tr>\n",
       "    <tr>\n",
       "      <th>2010</th>\n",
       "      <td>1255</td>\n",
       "      <td>590.13</td>\n",
       "      <td>0.47</td>\n",
       "      <td>67.48</td>\n",
       "      <td>6.88</td>\n",
       "    </tr>\n",
       "    <tr>\n",
       "      <th>2011</th>\n",
       "      <td>1136</td>\n",
       "      <td>507.58</td>\n",
       "      <td>0.45</td>\n",
       "      <td>68.69</td>\n",
       "      <td>6.62</td>\n",
       "    </tr>\n",
       "    <tr>\n",
       "      <th>2012</th>\n",
       "      <td>653</td>\n",
       "      <td>355.84</td>\n",
       "      <td>0.54</td>\n",
       "      <td>72.98</td>\n",
       "      <td>6.82</td>\n",
       "    </tr>\n",
       "    <tr>\n",
       "      <th>2013</th>\n",
       "      <td>544</td>\n",
       "      <td>361.24</td>\n",
       "      <td>0.66</td>\n",
       "      <td>71.28</td>\n",
       "      <td>6.47</td>\n",
       "    </tr>\n",
       "    <tr>\n",
       "      <th>2014</th>\n",
       "      <td>581</td>\n",
       "      <td>331.53</td>\n",
       "      <td>0.57</td>\n",
       "      <td>71.07</td>\n",
       "      <td>6.58</td>\n",
       "    </tr>\n",
       "    <tr>\n",
       "      <th>2015</th>\n",
       "      <td>606</td>\n",
       "      <td>267.98</td>\n",
       "      <td>0.44</td>\n",
       "      <td>72.87</td>\n",
       "      <td>6.67</td>\n",
       "    </tr>\n",
       "    <tr>\n",
       "      <th>2016</th>\n",
       "      <td>502</td>\n",
       "      <td>129.94</td>\n",
       "      <td>0.26</td>\n",
       "      <td>73.16</td>\n",
       "      <td>6.63</td>\n",
       "    </tr>\n",
       "  </tbody>\n",
       "</table>\n",
       "</div>"
      ],
      "text/plain": [
       "                total_sales               critic_score user_score\n",
       "                      count     sum  mean         mean       mean\n",
       "year_of_release                                                  \n",
       "1980                      9   11.38  1.26          NaN        NaN\n",
       "1981                     46   35.68  0.78          NaN        NaN\n",
       "1982                     36   28.88  0.80          NaN        NaN\n",
       "1983                     17   16.80  0.99          NaN        NaN\n",
       "1984                     14   50.35  3.60          NaN        NaN\n",
       "1985                     14   53.95  3.85        59.00       5.80\n",
       "1986                     21   37.08  1.77          NaN        NaN\n",
       "1987                     16   21.70  1.36          NaN        NaN\n",
       "1988                     15   47.21  3.15        64.00       2.20\n",
       "1989                     17   73.45  4.32          NaN        NaN\n",
       "1990                     16   49.37  3.09          NaN        NaN\n",
       "1991                     41   32.23  0.79          NaN        NaN\n",
       "1992                     43   76.16  1.77        85.00       8.20\n",
       "1993                     60   45.99  0.77          NaN        NaN\n",
       "1994                    121   79.23  0.65        69.00       6.30\n",
       "1995                    219   88.12  0.40          NaN        NaN\n",
       "1996                    263  199.15  0.76        89.88       8.40\n",
       "1997                    289  201.07  0.70        85.29       8.47\n",
       "1998                    379  256.31  0.68        81.82       8.51\n",
       "1999                    338  251.11  0.74        75.77       8.48\n",
       "2000                    350  201.66  0.58        69.35       7.53\n",
       "2001                    482  331.46  0.69        71.41       7.59\n",
       "2002                    829  394.97  0.48        69.05       7.59\n",
       "2003                    775  357.54  0.46        70.18       7.86\n",
       "2004                    762  418.68  0.55        69.39       7.75\n",
       "2005                    939  457.82  0.49        68.82       7.51\n",
       "2006                   1006  517.71  0.51        67.34       7.25\n",
       "2007                   1197  604.75  0.51        66.18       6.90\n",
       "2008                   1427  671.50  0.47        65.90       6.95\n",
       "2009                   1426  658.82  0.46        67.55       6.99\n",
       "2010                   1255  590.13  0.47        67.48       6.88\n",
       "2011                   1136  507.58  0.45        68.69       6.62\n",
       "2012                    653  355.84  0.54        72.98       6.82\n",
       "2013                    544  361.24  0.66        71.28       6.47\n",
       "2014                    581  331.53  0.57        71.07       6.58\n",
       "2015                    606  267.98  0.44        72.87       6.67\n",
       "2016                    502  129.94  0.26        73.16       6.63"
      ]
     },
     "execution_count": 125,
     "metadata": {},
     "output_type": "execute_result"
    }
   ],
   "source": [
    "# Display summary statistics for each year\n",
    "# Group by year and calculate summary statistics\n",
    "yearly_stats = df.groupby('year_of_release').agg({\n",
    "    'total_sales': ['count', 'sum', 'mean'],\n",
    "    'critic_score': ['mean'],\n",
    "    'user_score': ['mean']\n",
    "})\n",
    "\n",
    "# Round for readability\n",
    "yearly_stats = yearly_stats.round(2)\n",
    "\n",
    "# Display the summary statistics\n",
    "yearly_stats"
   ]
  },
  {
   "cell_type": "markdown",
   "metadata": {
    "id": "v4EHTXiUGeh6"
   },
   "source": [
    "### Questions to Consider:\n",
    "- Which years show significant numbers of game releases?\n",
    "- Are there any notable trends or patterns in the number of releases?\n",
    "- Is there enough recent data to make predictions for 2017?"
   ]
  },
  {
   "cell_type": "markdown",
   "metadata": {},
   "source": [
    "### Awnsers\n",
    "\n",
    "**1.** The most significant number of game releases occurred between 2002 and 2012, with a large spike around 2007–2010.\n",
    "\n",
    "**2.**  There's a large growth in game releases starting at year 2000, ten a gradual decline from 2010.\n",
    "\n",
    "**3.**  Yes I think so, the trends in the data provides a reliable idea for 2017.  "
   ]
  },
  {
   "cell_type": "markdown",
   "metadata": {
    "id": "-rQehsGk11-W"
   },
   "source": [
    "## 3.2 Platform Sales Analysis Over Time\n",
    "\n",
    "Now let's analyze how sales vary across platforms and years:"
   ]
  },
  {
   "cell_type": "code",
   "execution_count": 126,
   "metadata": {
    "id": "6czXW9Ww13AX"
   },
   "outputs": [
    {
     "data": {
      "text/html": [
       "<div>\n",
       "<style scoped>\n",
       "    .dataframe tbody tr th:only-of-type {\n",
       "        vertical-align: middle;\n",
       "    }\n",
       "\n",
       "    .dataframe tbody tr th {\n",
       "        vertical-align: top;\n",
       "    }\n",
       "\n",
       "    .dataframe thead th {\n",
       "        text-align: right;\n",
       "    }\n",
       "</style>\n",
       "<table border=\"1\" class=\"dataframe\">\n",
       "  <thead>\n",
       "    <tr style=\"text-align: right;\">\n",
       "      <th></th>\n",
       "      <th>platform</th>\n",
       "      <th>year_of_release</th>\n",
       "      <th>total_sales</th>\n",
       "    </tr>\n",
       "  </thead>\n",
       "  <tbody>\n",
       "    <tr>\n",
       "      <th>0</th>\n",
       "      <td>2600</td>\n",
       "      <td>1980</td>\n",
       "      <td>11.38</td>\n",
       "    </tr>\n",
       "    <tr>\n",
       "      <th>1</th>\n",
       "      <td>2600</td>\n",
       "      <td>1981</td>\n",
       "      <td>35.68</td>\n",
       "    </tr>\n",
       "    <tr>\n",
       "      <th>2</th>\n",
       "      <td>2600</td>\n",
       "      <td>1982</td>\n",
       "      <td>28.88</td>\n",
       "    </tr>\n",
       "    <tr>\n",
       "      <th>3</th>\n",
       "      <td>2600</td>\n",
       "      <td>1983</td>\n",
       "      <td>5.84</td>\n",
       "    </tr>\n",
       "    <tr>\n",
       "      <th>4</th>\n",
       "      <td>2600</td>\n",
       "      <td>1984</td>\n",
       "      <td>0.27</td>\n",
       "    </tr>\n",
       "  </tbody>\n",
       "</table>\n",
       "</div>"
      ],
      "text/plain": [
       "  platform  year_of_release  total_sales\n",
       "0     2600             1980        11.38\n",
       "1     2600             1981        35.68\n",
       "2     2600             1982        28.88\n",
       "3     2600             1983         5.84\n",
       "4     2600             1984         0.27"
      ]
     },
     "execution_count": 126,
     "metadata": {},
     "output_type": "execute_result"
    }
   ],
   "source": [
    "# Calculate total sales by platform and year\n",
    "platform_year_sales = df.groupby(['platform', 'year_of_release'])['total_sales'].sum().reset_index()\n",
    "\n",
    "# Preview the result\n",
    "platform_year_sales.head()"
   ]
  },
  {
   "cell_type": "code",
   "execution_count": 127,
   "metadata": {
    "id": "Dz_1_sNEGlDS"
   },
   "outputs": [
    {
     "data": {
      "image/png": "[encoded data removed]",
      "text/plain": [
       "<Figure size 1000x600 with 2 Axes>"
      ]
     },
     "metadata": {},
     "output_type": "display_data"
    }
   ],
   "source": [
    "# Create a heatmap of platform sales over time\n",
    "platform_year_pivot = df.pivot_table(\n",
    "    index='platform',\n",
    "    columns='year_of_release',\n",
    "    values='total_sales',\n",
    "    aggfunc='sum'\n",
    ").fillna(0)\n",
    "\n",
    "# Plot the heatmap\n",
    "plt.figure(figsize=(10, 6))\n",
    "sns.heatmap(platform_year_pivot, linecolor='gray', linewidths=0.1)\n",
    "\n",
    "plt.title('Total Sales by Platform and Year (Millions)')\n",
    "plt.xlabel('Year of Release')\n",
    "plt.ylabel('Platform')\n",
    "plt.show()"
   ]
  },
  {
   "cell_type": "code",
   "execution_count": 128,
   "metadata": {
    "id": "DPIZovwbGmLy"
   },
   "outputs": [],
   "source": [
    "# Identify platforms with declining sales"
   ]
  },
  {
   "cell_type": "markdown",
   "metadata": {},
   "source": [
    "We can see with this heat map that the older consels have fallen off and the main consles that are starting to decline are the Xbox 360(people are swiching to buy the Xbox one), PS3 (people swichjing to PS4), and the 3DS seams to have a bit of a lingering decline as well. "
   ]
  },
  {
   "cell_type": "markdown",
   "metadata": {
    "id": "Jik7JecCGoNa"
   },
   "source": [
    "### Questions to Consider:\n",
    "- Which platforms show consistent sales over time?\n",
    "- Can you identify platforms that have disappeared from the market?\n",
    "- What's the typical lifecycle of a gaming platform?"
   ]
  },
  {
   "cell_type": "markdown",
   "metadata": {},
   "source": [
    "**1.** Form this graph and the data shown we can see that the Playstaton platforms seem to be the most consistant with Xbox and also showing some consistancy in witht the xbox 360. The Wii also had a ery consistant few years from 2006 to arounnd 2013.\n",
    "\n",
    "**2.** The platorm that has disaperd ar all the older ones, the older ones also dont have newrly as many sales as the ew cconslols. This comes to show that the purchas of gmaming devices is on the rise and has a growing popularity.\n",
    "\n",
    "**3.** It seams the lifecycle of any given platform has a range of 4 to 7 years. There are of corese the outlires like those of PS2 which had a lifecycle of over 9 years and then the Game Boy that and off and on b=populatiry for many years but each sepert woudnlt be over about  years at a time."
   ]
  },
  {
   "cell_type": "markdown",
   "metadata": {
    "id": "Yk_tUP5y17Wv"
   },
   "source": [
    "## 3.3 Determining Relevant Time Period\n",
    "\n",
    "Based on your analysis above, determine the appropriate time period for predicting 2017 sales:"
   ]
  },
  {
   "cell_type": "code",
   "execution_count": 129,
   "metadata": {
    "id": "hVfuRMjyFU3i"
   },
   "outputs": [
    {
     "data": {
      "text/plain": [
       "<IntegerArray>\n",
       "[2013, 2015, 2012, 2014, 2016]\n",
       "Length: 5, dtype: Int64"
      ]
     },
     "execution_count": 129,
     "metadata": {},
     "output_type": "execute_result"
    }
   ],
   "source": [
    "# Your code here to filter the dataset to relevant years\n",
    "# Define the relevant years for modeling 2017\n",
    "relevant_years = [2012, 2013, 2014, 2015, 2016]\n",
    "\n",
    "# Filter the dataset\n",
    "df_relevant = df[df['year_of_release'].isin(relevant_years)]\n",
    "\n",
    "df_relevant['year_of_release'].unique()"
   ]
  },
  {
   "cell_type": "markdown",
   "metadata": {
    "id": "8g_CURLWGzYy"
   },
   "source": [
    "### Document Your Decision:\n",
    "- What years did you select and why?\n",
    "- How does this period reflect current market conditions?\n",
    "- What factors influenced your decision?"
   ]
  },
  {
   "cell_type": "markdown",
   "metadata": {},
   "source": [
    "**1.** I chose the 5 years of 2012, 2013, 2014, 2015, and 2017 beacse it gives data on the popular consules at those times lifecicle and allows for easyer prodictions of 2017.\n",
    "\n",
    "**2.** The curent market could be easaly compared becasuse we can assume that the curent year would fallow simular paterns.\n",
    "\n",
    "**3.** The mane factures was i wanted to be able to include the data of the most popular platforms that where just starting ot grow in popularity (play station 4, xbox one) and how the predicesors to those droped off (PS3, Xbox360)."
   ]
  },
  {
   "cell_type": "markdown",
   "metadata": {
    "id": "tNgNPQdYFqka"
   },
   "source": [
    "## 3.4 Platform Performance Analysis\n",
    "\n",
    "Using your selected time period, let's analyze platform performance:"
   ]
  },
  {
   "cell_type": "code",
   "execution_count": 130,
   "metadata": {
    "id": "1bPiDIJ3FsAC"
   },
   "outputs": [],
   "source": [
    "# Analyze platform sales trends\n",
    "relevant_platform_sales = df_relevant.groupby(['platform', 'year_of_release'])['total_sales'].sum().reset_index()"
   ]
  },
  {
   "cell_type": "code",
   "execution_count": 131,
   "metadata": {
    "id": "49INtJV4Fv-i"
   },
   "outputs": [],
   "source": [
    "# Sort platforms by total sales\n",
    "relevant_platforms_sales = df_relevant.groupby('platform')['total_sales'].sum().sort_values(ascending=False).head(5).index"
   ]
  },
  {
   "cell_type": "code",
   "execution_count": 132,
   "metadata": {
    "id": "nB8xsmAuG38a"
   },
   "outputs": [
    {
     "data": {
      "image/png": "[encoded data removed]",
      "text/plain": [
       "<Figure size 1000x500 with 1 Axes>"
      ]
     },
     "metadata": {},
     "output_type": "display_data"
    }
   ],
   "source": [
    "# Visualize top platforms\n",
    "# Calculate year-over-year growth for each platform\n",
    "# Your code here to calculate and visualize platform growth rates\n",
    "plt.figure(figsize=(10, 5))\n",
    "\n",
    "for platform in relevant_platforms_sales:\n",
    "    data = relevant_platform_sales[relevant_platform_sales['platform'] == platform]\n",
    "    plt.plot(data['year_of_release'], data['total_sales'], marker='o', label=platform)\n",
    "\n",
    "plt.title('Platform Sales Trends (2012–2016)')\n",
    "plt.xlabel('Year of Release')\n",
    "plt.ylabel('Total Sales (Millions)')\n",
    "plt.legend(title='Platform')\n",
    "plt.xticks([2012, 2013, 2014, 2015, 2016])\n",
    "plt.show()"
   ]
  },
  {
   "cell_type": "markdown",
   "metadata": {
    "id": "gss9CaRLG8F6"
   },
   "source": [
    "## 3.5 Sales Distribution Analysis\n",
    "\n",
    "Let's examine the distribution of sales across platforms:"
   ]
  },
  {
   "cell_type": "code",
   "execution_count": 133,
   "metadata": {
    "id": "Tt86KnSmG9Ia"
   },
   "outputs": [
    {
     "data": {
      "text/plain": [
       "<Figure size 1000x500 with 0 Axes>"
      ]
     },
     "metadata": {},
     "output_type": "display_data"
    },
    {
     "data": {
      "image/png": "[encoded data removed]",
      "text/plain": [
       "<Figure size 1000x600 with 1 Axes>"
      ]
     },
     "metadata": {},
     "output_type": "display_data"
    }
   ],
   "source": [
    "# Create box plot of sales by platform\n",
    "plt.figure(figsize=(10, 5))\n",
    "\n",
    "# Filter dataset to only those platforms\n",
    "df_top_platforms = df_relevant[df_relevant['platform'].isin(relevant_platforms_sales)]\n",
    "\n",
    "# Plot boxplot\n",
    "plt.figure(figsize=(10, 6))\n",
    "sns.boxplot(data=df_top_platforms, x='platform', y='total_sales', palette='Set2')\n",
    "plt.title('Top 7 Platforms: Global Game Sales Distribution (2013–2016)', fontsize=14)\n",
    "plt.xlabel('Platform')\n",
    "plt.ylabel('Total Sales (Millions)')\n",
    "plt.grid(True)\n",
    "plt.tight_layout()\n",
    "plt.show()"
   ]
  },
  {
   "cell_type": "code",
   "execution_count": 134,
   "metadata": {
    "id": "V34QXjQbG-Ti"
   },
   "outputs": [
    {
     "name": "stdout",
     "output_type": "stream",
     "text": [
      "          game_count  total_sales  average_sales  median_sales  max_sales\n",
      "platform                                                                 \n",
      "3DS              396       194.61           0.49          0.11      14.60\n",
      "PS3              493       288.79           0.59          0.20      21.05\n",
      "PS4              392       314.14           0.80          0.20      14.63\n",
      "X360             292       236.54           0.81          0.31      16.27\n",
      "XOne             247       159.32           0.65          0.22       7.39\n"
     ]
    }
   ],
   "source": [
    "# Calculate detailed statistics for each platform\n",
    "platform_stats = df_top_platforms.groupby('platform')['total_sales'].agg(\n",
    "    game_count='count',\n",
    "    total_sales='sum',\n",
    "    average_sales='mean',\n",
    "    median_sales='median',\n",
    "    max_sales='max'\n",
    ").round(2)\n",
    "\n",
    "print(platform_stats)"
   ]
  },
  {
   "cell_type": "markdown",
   "metadata": {
    "id": "kpr3vFcpG_1q"
   },
   "source": [
    "## 3.6 Review Score Impact Analysis\n",
    "\n",
    "Select a popular platform and analyze how reviews affect sales:"
   ]
  },
  {
   "cell_type": "code",
   "execution_count": 135,
   "metadata": {
    "id": "ly_DyKUGHBAi"
   },
   "outputs": [],
   "source": [
    "# Choose a popular platform based on your previous analysis\n",
    "# Filter data for Xbox One\n",
    "xone_df = df_relevant[df_relevant['platform'] == 'XOne'].copy()\n",
    "\n",
    "# get rid of missing scores\n",
    "xone_df = xone_df.dropna(subset=['critic_score', 'user_score'])"
   ]
  },
  {
   "cell_type": "code",
   "execution_count": 136,
   "metadata": {
    "id": "HAqsDecvHCJ1"
   },
   "outputs": [
    {
     "data": {
      "image/png": "[encoded data removed]",
      "text/plain": [
       "<Figure size 1000x500 with 2 Axes>"
      ]
     },
     "metadata": {},
     "output_type": "display_data"
    }
   ],
   "source": [
    "# Create scatter plots for both critic and user scores\n",
    "plt.figure(figsize=(10, 5))\n",
    "\n",
    "# Critic Score scatter plot\n",
    "plt.subplot(1, 2, 1)\n",
    "plt.scatter(xone_df['critic_score'], xone_df['total_sales'], alpha=0.5)\n",
    "plt.title('Xbox One: Critic Score vs Total Sales')\n",
    "plt.xlabel('Critic Score')\n",
    "plt.ylabel('Total Sales (Millions)')\n",
    "\n",
    "# User Score scatter plot\n",
    "plt.subplot(1, 2, 2)\n",
    "xone_df['user_score'] = pd.to_numeric(xone_df['user_score'], errors='coerce')\n",
    "plt.scatter(xone_df['user_score'], xone_df['total_sales'], alpha=0.5, color='orange')\n",
    "plt.title('Xbox One: User Score vs Total Sales')\n",
    "plt.xlabel('User Score')\n",
    "plt.ylabel('Total Sales (Millions)')\n",
    "plt.tight_layout()\n",
    "plt.show()"
   ]
  },
  {
   "cell_type": "markdown",
   "metadata": {
    "id": "hhLvhB8-HKk6"
   },
   "source": [
    "## 3.7 Cross-Platform Comparison\n",
    "\n",
    "Compare sales performance of games across different platforms:"
   ]
  },
  {
   "cell_type": "code",
   "execution_count": 137,
   "metadata": {
    "id": "nVdLwEw3HLwK"
   },
   "outputs": [
    {
     "data": {
      "text/html": [
       "<div>\n",
       "<style scoped>\n",
       "    .dataframe tbody tr th:only-of-type {\n",
       "        vertical-align: middle;\n",
       "    }\n",
       "\n",
       "    .dataframe tbody tr th {\n",
       "        vertical-align: top;\n",
       "    }\n",
       "\n",
       "    .dataframe thead th {\n",
       "        text-align: right;\n",
       "    }\n",
       "</style>\n",
       "<table border=\"1\" class=\"dataframe\">\n",
       "  <thead>\n",
       "    <tr style=\"text-align: right;\">\n",
       "      <th></th>\n",
       "      <th>name</th>\n",
       "      <th>platform</th>\n",
       "      <th>year_of_release</th>\n",
       "      <th>genre</th>\n",
       "      <th>na_sales</th>\n",
       "      <th>eu_sales</th>\n",
       "      <th>jp_sales</th>\n",
       "      <th>other_sales</th>\n",
       "      <th>critic_score</th>\n",
       "      <th>user_score</th>\n",
       "      <th>rating</th>\n",
       "      <th>total_sales</th>\n",
       "    </tr>\n",
       "  </thead>\n",
       "  <tbody>\n",
       "    <tr>\n",
       "      <th>16</th>\n",
       "      <td>Grand Theft Auto V</td>\n",
       "      <td>PS3</td>\n",
       "      <td>2013</td>\n",
       "      <td>Action</td>\n",
       "      <td>7.02</td>\n",
       "      <td>9.09</td>\n",
       "      <td>0.98</td>\n",
       "      <td>3.96</td>\n",
       "      <td>97.0</td>\n",
       "      <td>8.2</td>\n",
       "      <td>M</td>\n",
       "      <td>21.05</td>\n",
       "    </tr>\n",
       "    <tr>\n",
       "      <th>23</th>\n",
       "      <td>Grand Theft Auto V</td>\n",
       "      <td>X360</td>\n",
       "      <td>2013</td>\n",
       "      <td>Action</td>\n",
       "      <td>9.66</td>\n",
       "      <td>5.14</td>\n",
       "      <td>0.06</td>\n",
       "      <td>1.41</td>\n",
       "      <td>97.0</td>\n",
       "      <td>8.1</td>\n",
       "      <td>M</td>\n",
       "      <td>16.27</td>\n",
       "    </tr>\n",
       "    <tr>\n",
       "      <th>31</th>\n",
       "      <td>Call of Duty: Black Ops 3</td>\n",
       "      <td>PS4</td>\n",
       "      <td>2015</td>\n",
       "      <td>Shooter</td>\n",
       "      <td>6.03</td>\n",
       "      <td>5.86</td>\n",
       "      <td>0.36</td>\n",
       "      <td>2.38</td>\n",
       "      <td>NaN</td>\n",
       "      <td>NaN</td>\n",
       "      <td>Unrated</td>\n",
       "      <td>14.63</td>\n",
       "    </tr>\n",
       "    <tr>\n",
       "      <th>34</th>\n",
       "      <td>Call of Duty: Black Ops II</td>\n",
       "      <td>PS3</td>\n",
       "      <td>2012</td>\n",
       "      <td>Shooter</td>\n",
       "      <td>4.99</td>\n",
       "      <td>5.73</td>\n",
       "      <td>0.65</td>\n",
       "      <td>2.42</td>\n",
       "      <td>83.0</td>\n",
       "      <td>5.3</td>\n",
       "      <td>M</td>\n",
       "      <td>13.79</td>\n",
       "    </tr>\n",
       "    <tr>\n",
       "      <th>35</th>\n",
       "      <td>Call of Duty: Black Ops II</td>\n",
       "      <td>X360</td>\n",
       "      <td>2012</td>\n",
       "      <td>Shooter</td>\n",
       "      <td>8.25</td>\n",
       "      <td>4.24</td>\n",
       "      <td>0.07</td>\n",
       "      <td>1.12</td>\n",
       "      <td>83.0</td>\n",
       "      <td>4.8</td>\n",
       "      <td>M</td>\n",
       "      <td>13.68</td>\n",
       "    </tr>\n",
       "  </tbody>\n",
       "</table>\n",
       "</div>"
      ],
      "text/plain": [
       "                          name platform  year_of_release    genre  na_sales  \\\n",
       "16          Grand Theft Auto V      PS3             2013   Action      7.02   \n",
       "23          Grand Theft Auto V     X360             2013   Action      9.66   \n",
       "31   Call of Duty: Black Ops 3      PS4             2015  Shooter      6.03   \n",
       "34  Call of Duty: Black Ops II      PS3             2012  Shooter      4.99   \n",
       "35  Call of Duty: Black Ops II     X360             2012  Shooter      8.25   \n",
       "\n",
       "    eu_sales  jp_sales  other_sales  critic_score  user_score   rating  \\\n",
       "16      9.09      0.98         3.96          97.0         8.2        M   \n",
       "23      5.14      0.06         1.41          97.0         8.1        M   \n",
       "31      5.86      0.36         2.38           NaN         NaN  Unrated   \n",
       "34      5.73      0.65         2.42          83.0         5.3        M   \n",
       "35      4.24      0.07         1.12          83.0         4.8        M   \n",
       "\n",
       "    total_sales  \n",
       "16        21.05  \n",
       "23        16.27  \n",
       "31        14.63  \n",
       "34        13.79  \n",
       "35        13.68  "
      ]
     },
     "execution_count": 137,
     "metadata": {},
     "output_type": "execute_result"
    }
   ],
   "source": [
    "# Find games released on multiple platforms\n",
    "multi_platform_titles = df_relevant['name'].value_counts()\n",
    "multi_platform_titles = multi_platform_titles[multi_platform_titles > 1].index\n",
    "\n",
    "# Filter dataset for those games\n",
    "df_multi_platform = df_relevant[df_relevant['name'].isin(multi_platform_titles)]\n",
    "df_multi_platform.head()"
   ]
  },
  {
   "cell_type": "code",
   "execution_count": 138,
   "metadata": {
    "id": "ME1egJbSHM-i"
   },
   "outputs": [
    {
     "data": {
      "image/png": "[encoded data removed]",
      "text/plain": [
       "<Figure size 1000x500 with 1 Axes>"
      ]
     },
     "metadata": {},
     "output_type": "display_data"
    }
   ],
   "source": [
    "# Compare sales across platforms for these games\n",
    "# Your code here to analyze and visualize cross-platform performance\n",
    "multi_platform_sales = df_multi_platform.groupby('platform')['total_sales'].mean()\n",
    "\n",
    "# Plot\n",
    "plt.figure(figsize=(10, 5))\n",
    "sns.barplot(x=multi_platform_sales.index, y=multi_platform_sales.values)\n",
    "plt.title('Average Sales of Shared Games by Platform (2013–2016)', fontsize=14)\n",
    "plt.xlabel('Platform')\n",
    "plt.ylabel('Average Total Sales (Millions)')\n",
    "plt.tight_layout()\n",
    "plt.show()"
   ]
  },
  {
   "cell_type": "markdown",
   "metadata": {
    "id": "7pIIgylYHOTa"
   },
   "source": [
    "## 3.8 Genre Analysis\n",
    "\n",
    "Finally, let's examine the distribution of games by genre:"
   ]
  },
  {
   "cell_type": "code",
   "execution_count": 139,
   "metadata": {
    "id": "EMqroBuLHPZN"
   },
   "outputs": [
    {
     "data": {
      "text/html": [
       "<div>\n",
       "<style scoped>\n",
       "    .dataframe tbody tr th:only-of-type {\n",
       "        vertical-align: middle;\n",
       "    }\n",
       "\n",
       "    .dataframe tbody tr th {\n",
       "        vertical-align: top;\n",
       "    }\n",
       "\n",
       "    .dataframe thead th {\n",
       "        text-align: right;\n",
       "    }\n",
       "</style>\n",
       "<table border=\"1\" class=\"dataframe\">\n",
       "  <thead>\n",
       "    <tr style=\"text-align: right;\">\n",
       "      <th></th>\n",
       "      <th>total_sales</th>\n",
       "      <th>average_sales</th>\n",
       "      <th>game_count</th>\n",
       "    </tr>\n",
       "    <tr>\n",
       "      <th>genre</th>\n",
       "      <th></th>\n",
       "      <th></th>\n",
       "      <th></th>\n",
       "    </tr>\n",
       "  </thead>\n",
       "  <tbody>\n",
       "    <tr>\n",
       "      <th>Action</th>\n",
       "      <td>441.12</td>\n",
       "      <td>0.43</td>\n",
       "      <td>1031</td>\n",
       "    </tr>\n",
       "    <tr>\n",
       "      <th>Shooter</th>\n",
       "      <td>304.73</td>\n",
       "      <td>1.30</td>\n",
       "      <td>235</td>\n",
       "    </tr>\n",
       "    <tr>\n",
       "      <th>Role-Playing</th>\n",
       "      <td>192.80</td>\n",
       "      <td>0.52</td>\n",
       "      <td>370</td>\n",
       "    </tr>\n",
       "    <tr>\n",
       "      <th>Sports</th>\n",
       "      <td>181.07</td>\n",
       "      <td>0.68</td>\n",
       "      <td>268</td>\n",
       "    </tr>\n",
       "    <tr>\n",
       "      <th>Misc</th>\n",
       "      <td>85.04</td>\n",
       "      <td>0.44</td>\n",
       "      <td>192</td>\n",
       "    </tr>\n",
       "    <tr>\n",
       "      <th>Platform</th>\n",
       "      <td>61.00</td>\n",
       "      <td>0.72</td>\n",
       "      <td>85</td>\n",
       "    </tr>\n",
       "    <tr>\n",
       "      <th>Racing</th>\n",
       "      <td>53.50</td>\n",
       "      <td>0.47</td>\n",
       "      <td>115</td>\n",
       "    </tr>\n",
       "    <tr>\n",
       "      <th>Fighting</th>\n",
       "      <td>44.49</td>\n",
       "      <td>0.41</td>\n",
       "      <td>109</td>\n",
       "    </tr>\n",
       "    <tr>\n",
       "      <th>Simulation</th>\n",
       "      <td>35.12</td>\n",
       "      <td>0.44</td>\n",
       "      <td>80</td>\n",
       "    </tr>\n",
       "    <tr>\n",
       "      <th>Adventure</th>\n",
       "      <td>29.43</td>\n",
       "      <td>0.10</td>\n",
       "      <td>302</td>\n",
       "    </tr>\n",
       "    <tr>\n",
       "      <th>Strategy</th>\n",
       "      <td>13.34</td>\n",
       "      <td>0.19</td>\n",
       "      <td>71</td>\n",
       "    </tr>\n",
       "    <tr>\n",
       "      <th>Puzzle</th>\n",
       "      <td>4.89</td>\n",
       "      <td>0.17</td>\n",
       "      <td>28</td>\n",
       "    </tr>\n",
       "  </tbody>\n",
       "</table>\n",
       "</div>"
      ],
      "text/plain": [
       "              total_sales  average_sales  game_count\n",
       "genre                                               \n",
       "Action             441.12           0.43        1031\n",
       "Shooter            304.73           1.30         235\n",
       "Role-Playing       192.80           0.52         370\n",
       "Sports             181.07           0.68         268\n",
       "Misc                85.04           0.44         192\n",
       "Platform            61.00           0.72          85\n",
       "Racing              53.50           0.47         115\n",
       "Fighting            44.49           0.41         109\n",
       "Simulation          35.12           0.44          80\n",
       "Adventure           29.43           0.10         302\n",
       "Strategy            13.34           0.19          71\n",
       "Puzzle               4.89           0.17          28"
      ]
     },
     "execution_count": 139,
     "metadata": {},
     "output_type": "execute_result"
    }
   ],
   "source": [
    "# Analyze genre performance\n",
    "# Sort genres by total sales\n",
    "genre_perf = df_relevant.groupby('genre')['total_sales'].agg(\n",
    "    total_sales='sum',\n",
    "    average_sales='mean',\n",
    "    game_count='count'\n",
    ").round(2)\n",
    "\n",
    "genre_perf_sorted = genre_perf.sort_values(by='total_sales', ascending=False)\n",
    "genre_perf_sorted"
   ]
  },
  {
   "cell_type": "code",
   "execution_count": 140,
   "metadata": {
    "id": "im6TIeOoHRbz"
   },
   "outputs": [
    {
     "data": {
      "image/png": "[encoded data removed]",
      "text/plain": [
       "<Figure size 1000x500 with 1 Axes>"
      ]
     },
     "metadata": {},
     "output_type": "display_data"
    }
   ],
   "source": [
    "# Visualize genre distribution\n",
    "plt.figure(figsize=(10, 5))\n",
    "sns.barplot(x=genre_perf_sorted.index, y=genre_perf_sorted['total_sales'])\n",
    "plt.title('Total Sales by Genre (2013–2016)')\n",
    "plt.xlabel('Genre')\n",
    "plt.ylabel('Total Sales (Millions)')\n",
    "plt.tight_layout()\n",
    "plt.show()"
   ]
  },
  {
   "cell_type": "code",
   "execution_count": 141,
   "metadata": {
    "id": "B_f_MP3THSX7"
   },
   "outputs": [
    {
     "data": {
      "text/html": [
       "<div>\n",
       "<style scoped>\n",
       "    .dataframe tbody tr th:only-of-type {\n",
       "        vertical-align: middle;\n",
       "    }\n",
       "\n",
       "    .dataframe tbody tr th {\n",
       "        vertical-align: top;\n",
       "    }\n",
       "\n",
       "    .dataframe thead th {\n",
       "        text-align: right;\n",
       "    }\n",
       "</style>\n",
       "<table border=\"1\" class=\"dataframe\">\n",
       "  <thead>\n",
       "    <tr style=\"text-align: right;\">\n",
       "      <th></th>\n",
       "      <th>total_sales</th>\n",
       "      <th>average_sales</th>\n",
       "      <th>game_count</th>\n",
       "      <th>market_share (%)</th>\n",
       "    </tr>\n",
       "    <tr>\n",
       "      <th>genre</th>\n",
       "      <th></th>\n",
       "      <th></th>\n",
       "      <th></th>\n",
       "      <th></th>\n",
       "    </tr>\n",
       "  </thead>\n",
       "  <tbody>\n",
       "    <tr>\n",
       "      <th>Action</th>\n",
       "      <td>441.12</td>\n",
       "      <td>0.43</td>\n",
       "      <td>1031</td>\n",
       "      <td>30.50</td>\n",
       "    </tr>\n",
       "    <tr>\n",
       "      <th>Shooter</th>\n",
       "      <td>304.73</td>\n",
       "      <td>1.30</td>\n",
       "      <td>235</td>\n",
       "      <td>21.07</td>\n",
       "    </tr>\n",
       "    <tr>\n",
       "      <th>Role-Playing</th>\n",
       "      <td>192.80</td>\n",
       "      <td>0.52</td>\n",
       "      <td>370</td>\n",
       "      <td>13.33</td>\n",
       "    </tr>\n",
       "    <tr>\n",
       "      <th>Sports</th>\n",
       "      <td>181.07</td>\n",
       "      <td>0.68</td>\n",
       "      <td>268</td>\n",
       "      <td>12.52</td>\n",
       "    </tr>\n",
       "    <tr>\n",
       "      <th>Misc</th>\n",
       "      <td>85.04</td>\n",
       "      <td>0.44</td>\n",
       "      <td>192</td>\n",
       "      <td>5.88</td>\n",
       "    </tr>\n",
       "    <tr>\n",
       "      <th>Platform</th>\n",
       "      <td>61.00</td>\n",
       "      <td>0.72</td>\n",
       "      <td>85</td>\n",
       "      <td>4.22</td>\n",
       "    </tr>\n",
       "    <tr>\n",
       "      <th>Racing</th>\n",
       "      <td>53.50</td>\n",
       "      <td>0.47</td>\n",
       "      <td>115</td>\n",
       "      <td>3.70</td>\n",
       "    </tr>\n",
       "    <tr>\n",
       "      <th>Fighting</th>\n",
       "      <td>44.49</td>\n",
       "      <td>0.41</td>\n",
       "      <td>109</td>\n",
       "      <td>3.08</td>\n",
       "    </tr>\n",
       "    <tr>\n",
       "      <th>Simulation</th>\n",
       "      <td>35.12</td>\n",
       "      <td>0.44</td>\n",
       "      <td>80</td>\n",
       "      <td>2.43</td>\n",
       "    </tr>\n",
       "    <tr>\n",
       "      <th>Adventure</th>\n",
       "      <td>29.43</td>\n",
       "      <td>0.10</td>\n",
       "      <td>302</td>\n",
       "      <td>2.03</td>\n",
       "    </tr>\n",
       "    <tr>\n",
       "      <th>Strategy</th>\n",
       "      <td>13.34</td>\n",
       "      <td>0.19</td>\n",
       "      <td>71</td>\n",
       "      <td>0.92</td>\n",
       "    </tr>\n",
       "    <tr>\n",
       "      <th>Puzzle</th>\n",
       "      <td>4.89</td>\n",
       "      <td>0.17</td>\n",
       "      <td>28</td>\n",
       "      <td>0.34</td>\n",
       "    </tr>\n",
       "  </tbody>\n",
       "</table>\n",
       "</div>"
      ],
      "text/plain": [
       "              total_sales  average_sales  game_count  market_share (%)\n",
       "genre                                                                 \n",
       "Action             441.12           0.43        1031             30.50\n",
       "Shooter            304.73           1.30         235             21.07\n",
       "Role-Playing       192.80           0.52         370             13.33\n",
       "Sports             181.07           0.68         268             12.52\n",
       "Misc                85.04           0.44         192              5.88\n",
       "Platform            61.00           0.72          85              4.22\n",
       "Racing              53.50           0.47         115              3.70\n",
       "Fighting            44.49           0.41         109              3.08\n",
       "Simulation          35.12           0.44          80              2.43\n",
       "Adventure           29.43           0.10         302              2.03\n",
       "Strategy            13.34           0.19          71              0.92\n",
       "Puzzle               4.89           0.17          28              0.34"
      ]
     },
     "execution_count": 141,
     "metadata": {},
     "output_type": "execute_result"
    }
   ],
   "source": [
    "# Calculate market share for each genre\n",
    "total_sales = genre_perf['total_sales'].sum()\n",
    "genre_perf['market_share (%)'] = (genre_perf['total_sales'] / total_sales * 100).round(2)\n",
    "\n",
    "# Sort and view\n",
    "genre_perf.sort_values(by='market_share (%)', ascending=False)"
   ]
  },
  {
   "cell_type": "markdown",
   "metadata": {
    "id": "1tSmB_lEHTrj"
   },
   "source": [
    "### Key Questions for Genre Analysis:\n",
    "- Which genres consistently perform well?\n",
    "- Are there any genres showing recent growth or decline?\n",
    "- How does the average performance vary across genres?"
   ]
  },
  {
   "cell_type": "markdown",
   "metadata": {},
   "source": [
    "**1.** The action and shooter genres are performing the best by far with role playing and sports also peing very popular.\n",
    "\n",
    "**2.** Again the action and shooter genres are on the gowing side and then the ones declining are those of statagy and adventure.\n",
    "\n",
    "**3.** The best genres with the highest adverage sales are shooter, platform, and sports."
   ]
  },
  {
   "cell_type": "markdown",
   "metadata": {
    "id": "ktkaib-aHbPy"
   },
   "source": [
    "# Step 4: Regional Market Analysis and User Profiles\n",
    "\n",
    "In this section, we will analyze the gaming market characteristics across three major regions: North America (NA), Europe (EU), and Japan (JP). Our analysis will focus on platform preferences, genre popularity, and the impact of ESRB ratings in each region.\n",
    "\n",
    "## 4.1 Regional Platform Analysis\n",
    "\n",
    "Let's begin by examining platform performance across different regions:"
   ]
  },
  {
   "cell_type": "code",
   "execution_count": 142,
   "metadata": {
    "id": "MTA3QH6OHxMR"
   },
   "outputs": [],
   "source": [
    "# Function to analyze platform performance by region\n",
    "def top_platforms_by_region(df, region_col, top_n=5):\n",
    "    platform_sales = df.groupby('platform')[region_col].sum().sort_values(ascending=False).head(top_n)\n",
    "    return platform_sales"
   ]
  },
  {
   "cell_type": "code",
   "execution_count": 143,
   "metadata": {
    "id": "4kfm3Cd6HzAs"
   },
   "outputs": [
    {
     "name": "stdout",
     "output_type": "stream",
     "text": [
      "Top Platforms North America:\n",
      "platform\n",
      "X360    140.05\n",
      "PS4     108.74\n",
      "PS3     103.38\n",
      "XOne     93.12\n",
      "3DS      55.31\n",
      "Name: na_sales, dtype: float64\n",
      "\n",
      "Top Platforms Europe:\n",
      "platform\n",
      "PS4     141.09\n",
      "PS3     106.86\n",
      "X360     74.52\n",
      "XOne     51.59\n",
      "3DS      42.64\n",
      "Name: eu_sales, dtype: float64\n",
      "\n",
      "Top Platforms Japan:\n",
      "platform\n",
      "3DS     87.79\n",
      "PS3     35.29\n",
      "PSV     21.04\n",
      "PS4     15.96\n",
      "WiiU    13.01\n",
      "Name: jp_sales, dtype: float64\n"
     ]
    }
   ],
   "source": [
    "# Analyze each region\n",
    "top_na = top_platforms_by_region(df_relevant, 'na_sales')\n",
    "print(\"Top Platforms North America:\")\n",
    "print(top_na)\n",
    "\n",
    "# Top platforms in Europe\n",
    "top_eu = top_platforms_by_region(df_relevant, 'eu_sales')\n",
    "print(\"\\nTop Platforms Europe:\")\n",
    "print(top_eu)\n",
    "\n",
    "# Top platforms in Japan\n",
    "top_jp = top_platforms_by_region(df_relevant, 'jp_sales')\n",
    "print(\"\\nTop Platforms Japan:\")\n",
    "print(top_jp)"
   ]
  },
  {
   "cell_type": "markdown",
   "metadata": {
    "id": "EA8GXFT8H1Lz"
   },
   "source": [
    "### Cross-Regional Platform Comparison\n",
    "\n",
    "Let's create a comparative analysis of platform performance across regions:"
   ]
  },
  {
   "cell_type": "code",
   "execution_count": 144,
   "metadata": {
    "id": "1pA08dxLH4ED"
   },
   "outputs": [
    {
     "data": {
      "text/html": [
       "<div>\n",
       "<style scoped>\n",
       "    .dataframe tbody tr th:only-of-type {\n",
       "        vertical-align: middle;\n",
       "    }\n",
       "\n",
       "    .dataframe tbody tr th {\n",
       "        vertical-align: top;\n",
       "    }\n",
       "\n",
       "    .dataframe thead th {\n",
       "        text-align: right;\n",
       "    }\n",
       "</style>\n",
       "<table border=\"1\" class=\"dataframe\">\n",
       "  <thead>\n",
       "    <tr style=\"text-align: right;\">\n",
       "      <th></th>\n",
       "      <th>na_sales</th>\n",
       "      <th>eu_sales</th>\n",
       "      <th>jp_sales</th>\n",
       "    </tr>\n",
       "    <tr>\n",
       "      <th>platform</th>\n",
       "      <th></th>\n",
       "      <th></th>\n",
       "      <th></th>\n",
       "    </tr>\n",
       "  </thead>\n",
       "  <tbody>\n",
       "    <tr>\n",
       "      <th>PS4</th>\n",
       "      <td>108.74</td>\n",
       "      <td>141.09</td>\n",
       "      <td>15.96</td>\n",
       "    </tr>\n",
       "    <tr>\n",
       "      <th>PS3</th>\n",
       "      <td>103.38</td>\n",
       "      <td>106.86</td>\n",
       "      <td>35.29</td>\n",
       "    </tr>\n",
       "    <tr>\n",
       "      <th>X360</th>\n",
       "      <td>140.05</td>\n",
       "      <td>74.52</td>\n",
       "      <td>1.57</td>\n",
       "    </tr>\n",
       "    <tr>\n",
       "      <th>3DS</th>\n",
       "      <td>55.31</td>\n",
       "      <td>42.64</td>\n",
       "      <td>87.79</td>\n",
       "    </tr>\n",
       "    <tr>\n",
       "      <th>XOne</th>\n",
       "      <td>93.12</td>\n",
       "      <td>51.59</td>\n",
       "      <td>0.34</td>\n",
       "    </tr>\n",
       "    <tr>\n",
       "      <th>WiiU</th>\n",
       "      <td>38.10</td>\n",
       "      <td>25.13</td>\n",
       "      <td>13.01</td>\n",
       "    </tr>\n",
       "    <tr>\n",
       "      <th>PC</th>\n",
       "      <td>19.12</td>\n",
       "      <td>37.76</td>\n",
       "      <td>0.00</td>\n",
       "    </tr>\n",
       "    <tr>\n",
       "      <th>PSV</th>\n",
       "      <td>10.98</td>\n",
       "      <td>11.36</td>\n",
       "      <td>21.04</td>\n",
       "    </tr>\n",
       "    <tr>\n",
       "      <th>Wii</th>\n",
       "      <td>17.45</td>\n",
       "      <td>11.92</td>\n",
       "      <td>3.39</td>\n",
       "    </tr>\n",
       "    <tr>\n",
       "      <th>DS</th>\n",
       "      <td>4.59</td>\n",
       "      <td>3.53</td>\n",
       "      <td>3.72</td>\n",
       "    </tr>\n",
       "    <tr>\n",
       "      <th>PSP</th>\n",
       "      <td>0.13</td>\n",
       "      <td>0.42</td>\n",
       "      <td>10.47</td>\n",
       "    </tr>\n",
       "  </tbody>\n",
       "</table>\n",
       "</div>"
      ],
      "text/plain": [
       "          na_sales  eu_sales  jp_sales\n",
       "platform                              \n",
       "PS4         108.74    141.09     15.96\n",
       "PS3         103.38    106.86     35.29\n",
       "X360        140.05     74.52      1.57\n",
       "3DS          55.31     42.64     87.79\n",
       "XOne         93.12     51.59      0.34\n",
       "WiiU         38.10     25.13     13.01\n",
       "PC           19.12     37.76      0.00\n",
       "PSV          10.98     11.36     21.04\n",
       "Wii          17.45     11.92      3.39\n",
       "DS            4.59      3.53      3.72\n",
       "PSP           0.13      0.42     10.47"
      ]
     },
     "execution_count": 144,
     "metadata": {},
     "output_type": "execute_result"
    }
   ],
   "source": [
    "# Create a comparative platform analysis\n",
    "# Group by platform and sum regional sales\n",
    "regional_sales = df_relevant.groupby('platform')[['na_sales', 'eu_sales', 'jp_sales']].sum()\n",
    "\n",
    "# Filter to top platforms by global sales\n",
    "platforms = df_relevant.groupby('platform')['total_sales'].sum().sort_values(ascending=False).index\n",
    "\n",
    "# Filter for only top platforms\n",
    "regional_sales = regional_sales.loc[platforms]\n",
    "\n",
    "# Preview\n",
    "regional_sales"
   ]
  },
  {
   "cell_type": "code",
   "execution_count": 145,
   "metadata": {
    "id": "8tz6_xe8H5Hj"
   },
   "outputs": [
    {
     "data": {
      "image/png": "[encoded data removed]",
      "text/plain": [
       "<Figure size 1000x500 with 1 Axes>"
      ]
     },
     "metadata": {},
     "output_type": "display_data"
    }
   ],
   "source": [
    "# Visualize cross-regional comparison for top platforms\n",
    "regional_sales.plot(kind='bar', figsize=(10, 5))\n",
    "\n",
    "plt.title('Cross-Regional Platform Sales')\n",
    "plt.xlabel('Platform')\n",
    "plt.ylabel('Sales (Millions)')\n",
    "plt.legend(title='Region')\n",
    "plt.tight_layout()\n",
    "plt.show()"
   ]
  },
  {
   "cell_type": "markdown",
   "metadata": {
    "id": "7LUOIUpAH6ac"
   },
   "source": [
    "## 4.2 Regional Genre Analysis\n",
    "\n",
    "Now let's examine genre preferences across regions:"
   ]
  },
  {
   "cell_type": "code",
   "execution_count": 146,
   "metadata": {
    "id": "cTQ9P-eLH7rD"
   },
   "outputs": [],
   "source": [
    "# Function to analyze genre performance by region\n",
    "def genres_by_region(df, region_col):\n",
    "    genre_sales = df.groupby('genre')[region_col].sum().sort_values(ascending=False)\n",
    "    return genre_sales"
   ]
  },
  {
   "cell_type": "markdown",
   "metadata": {
    "id": "5HxLhvdWH-QD"
   },
   "source": [
    "### Cross-Regional Genre Comparison\n",
    "\n",
    "Let's compare genre preferences across regions:"
   ]
  },
  {
   "cell_type": "code",
   "execution_count": 147,
   "metadata": {
    "id": "GnkNJ3E2H_3j"
   },
   "outputs": [
    {
     "data": {
      "text/html": [
       "<div>\n",
       "<style scoped>\n",
       "    .dataframe tbody tr th:only-of-type {\n",
       "        vertical-align: middle;\n",
       "    }\n",
       "\n",
       "    .dataframe tbody tr th {\n",
       "        vertical-align: top;\n",
       "    }\n",
       "\n",
       "    .dataframe thead th {\n",
       "        text-align: right;\n",
       "    }\n",
       "</style>\n",
       "<table border=\"1\" class=\"dataframe\">\n",
       "  <thead>\n",
       "    <tr style=\"text-align: right;\">\n",
       "      <th></th>\n",
       "      <th>na_sales</th>\n",
       "      <th>eu_sales</th>\n",
       "      <th>jp_sales</th>\n",
       "    </tr>\n",
       "    <tr>\n",
       "      <th>genre</th>\n",
       "      <th></th>\n",
       "      <th></th>\n",
       "      <th></th>\n",
       "    </tr>\n",
       "  </thead>\n",
       "  <tbody>\n",
       "    <tr>\n",
       "      <th>Action</th>\n",
       "      <td>177.84</td>\n",
       "      <td>159.34</td>\n",
       "      <td>52.80</td>\n",
       "    </tr>\n",
       "    <tr>\n",
       "      <th>Adventure</th>\n",
       "      <td>8.92</td>\n",
       "      <td>9.46</td>\n",
       "      <td>8.24</td>\n",
       "    </tr>\n",
       "    <tr>\n",
       "      <th>Fighting</th>\n",
       "      <td>19.79</td>\n",
       "      <td>10.79</td>\n",
       "      <td>9.44</td>\n",
       "    </tr>\n",
       "    <tr>\n",
       "      <th>Misc</th>\n",
       "      <td>38.19</td>\n",
       "      <td>26.32</td>\n",
       "      <td>12.86</td>\n",
       "    </tr>\n",
       "    <tr>\n",
       "      <th>Platform</th>\n",
       "      <td>25.38</td>\n",
       "      <td>21.41</td>\n",
       "      <td>8.63</td>\n",
       "    </tr>\n",
       "    <tr>\n",
       "      <th>Puzzle</th>\n",
       "      <td>1.13</td>\n",
       "      <td>1.40</td>\n",
       "      <td>2.14</td>\n",
       "    </tr>\n",
       "    <tr>\n",
       "      <th>Racing</th>\n",
       "      <td>17.22</td>\n",
       "      <td>27.29</td>\n",
       "      <td>2.50</td>\n",
       "    </tr>\n",
       "    <tr>\n",
       "      <th>Role-Playing</th>\n",
       "      <td>64.00</td>\n",
       "      <td>48.53</td>\n",
       "      <td>65.44</td>\n",
       "    </tr>\n",
       "    <tr>\n",
       "      <th>Shooter</th>\n",
       "      <td>144.77</td>\n",
       "      <td>113.47</td>\n",
       "      <td>9.23</td>\n",
       "    </tr>\n",
       "    <tr>\n",
       "      <th>Simulation</th>\n",
       "      <td>7.97</td>\n",
       "      <td>14.55</td>\n",
       "      <td>10.41</td>\n",
       "    </tr>\n",
       "    <tr>\n",
       "      <th>Sports</th>\n",
       "      <td>81.53</td>\n",
       "      <td>69.09</td>\n",
       "      <td>8.01</td>\n",
       "    </tr>\n",
       "    <tr>\n",
       "      <th>Strategy</th>\n",
       "      <td>4.23</td>\n",
       "      <td>5.17</td>\n",
       "      <td>2.88</td>\n",
       "    </tr>\n",
       "  </tbody>\n",
       "</table>\n",
       "</div>"
      ],
      "text/plain": [
       "              na_sales  eu_sales  jp_sales\n",
       "genre                                     \n",
       "Action          177.84    159.34     52.80\n",
       "Adventure         8.92      9.46      8.24\n",
       "Fighting         19.79     10.79      9.44\n",
       "Misc             38.19     26.32     12.86\n",
       "Platform         25.38     21.41      8.63\n",
       "Puzzle            1.13      1.40      2.14\n",
       "Racing           17.22     27.29      2.50\n",
       "Role-Playing     64.00     48.53     65.44\n",
       "Shooter         144.77    113.47      9.23\n",
       "Simulation        7.97     14.55     10.41\n",
       "Sports           81.53     69.09      8.01\n",
       "Strategy          4.23      5.17      2.88"
      ]
     },
     "execution_count": 147,
     "metadata": {},
     "output_type": "execute_result"
    }
   ],
   "source": [
    "# Create a comparative genre analysis\n",
    "# Group by genre and sum\n",
    "regional_genre_sales = df_relevant.groupby('genre')[['na_sales', 'eu_sales', 'jp_sales']].sum()\n",
    "\n",
    "# Preview\n",
    "regional_genre_sales"
   ]
  },
  {
   "cell_type": "markdown",
   "metadata": {
    "id": "yj44c5ZWIBkr"
   },
   "source": [
    "## 4.3 ESRB Rating Impact Analysis\n",
    "\n",
    "Finally, let's examine how ESRB ratings affect sales in each region:"
   ]
  },
  {
   "cell_type": "code",
   "execution_count": 148,
   "metadata": {
    "id": "BQEvewWVICkr"
   },
   "outputs": [],
   "source": [
    "# Function to analyze ESRB rating impact\n",
    "def esrb_impact(df, region_col):\n",
    "    esrb_sales = df.groupby('rating')[region_col].sum().sort_values(ascending=False)\n",
    "    return esrb_sales"
   ]
  },
  {
   "cell_type": "code",
   "execution_count": 149,
   "metadata": {
    "id": "JwjXinv5IDp7"
   },
   "outputs": [
    {
     "name": "stdout",
     "output_type": "stream",
     "text": [
      "North America ESRB Impact:\n",
      " rating\n",
      "M          231.57\n",
      "E          114.37\n",
      "Unrated    103.31\n",
      "E10+        75.70\n",
      "T           66.02\n",
      "Name: na_sales, dtype: float64\n",
      "\n",
      "Europe ESRB Impact:\n",
      " rating\n",
      "M          193.96\n",
      "E          113.03\n",
      "Unrated     91.50\n",
      "E10+        55.37\n",
      "T           52.96\n",
      "Name: eu_sales, dtype: float64\n",
      "\n",
      "Japan ESRB Impact:\n",
      " rating\n",
      "Unrated    108.84\n",
      "E           28.33\n",
      "T           26.02\n",
      "M           21.20\n",
      "E10+         8.19\n",
      "Name: jp_sales, dtype: float64\n"
     ]
    }
   ],
   "source": [
    "# Analyze ESRB impact for each region\n",
    "# North America\n",
    "na_esrb = esrb_impact(df_relevant, 'na_sales')\n",
    "print(\"North America ESRB Impact:\\n\", na_esrb)\n",
    "\n",
    "# Europe\n",
    "eu_esrb = esrb_impact(df_relevant, 'eu_sales')\n",
    "print(\"\\nEurope ESRB Impact:\\n\", eu_esrb)\n",
    "\n",
    "# Japan\n",
    "jp_esrb = esrb_impact(df_relevant, 'jp_sales')\n",
    "print(\"\\nJapan ESRB Impact:\\n\", jp_esrb)"
   ]
  },
  {
   "cell_type": "markdown",
   "metadata": {
    "id": "HR1z031jIYZ7"
   },
   "source": [
    "# Step 5 : Hypothesis Tests\n",
    "\n",
    "—Average user ratings of the Xbox One and PC platforms are the same.\n",
    "\n",
    "—Average user ratings for the Action and Sports genres are different.\n",
    "\n",
    "Set the *alpha* threshold value yourself.\n",
    "\n",
    "Explain:\n",
    "\n",
    "—How you formulated the null and alternative hypotheses\n",
    "\n",
    "—What criteria you used to test the hypotheses~~,~~ and why\n"
   ]
  },
  {
   "cell_type": "markdown",
   "metadata": {
    "id": "-KfbHSwWIdn6"
   },
   "source": [
    "### Hypothesis 1: Xbox One vs PC User Ratings\n",
    "\n",
    "- **Null Hypothesis:** The average user ratings for Xbox One and PC games are equal.\n",
    "- **Alternative Hypothesis:** The average user ratings for Xbox One and PC games are different.\n",
    "\n",
    "I chose to use an two-sample t-test assuming the groups may have different variances.\n",
    "\n",
    "### Hypothesis 2: Action vs Sports Genres\n",
    "\n",
    "- **Null Hypothesis:** The average user ratings for Action and Sports games are equal.\n",
    "- **Alternative Hypothesis:** The average user ratings for Action and Sports games are different.\n",
    "\n",
    "Again, an independent two-sample t-test for simular reasions.\n"
   ]
  },
  {
   "cell_type": "code",
   "execution_count": 150,
   "metadata": {},
   "outputs": [
    {
     "name": "stdout",
     "output_type": "stream",
     "text": [
      "Xbox vs PC — p-value: 0.5489537965134912\n",
      "Fail to reject the null hypothesis: No significant difference in user ratings.\n"
     ]
    }
   ],
   "source": [
    "## Hypothesis 1 ##\n",
    "\n",
    "# Filter user scores for Xbox One and PC\n",
    "xbox_ratings = df_relevant[(df_relevant['platform'] == 'XOne')]['user_score'].dropna()\n",
    "pc_ratings = df_relevant[(df_relevant['platform'] == 'PC')]['user_score'].dropna()\n",
    "\n",
    "# T-test\n",
    "alpha = 0.05\n",
    "t_stat1, p_val1 = stats.ttest_ind(xbox_ratings, pc_ratings, equal_var=False)\n",
    "\n",
    "print(f\"Xbox vs PC — p-value: {p_val1}\")\n",
    "if p_val1 < alpha:\n",
    "    print(\"Reject the null hypothesis: User ratings are significantly different.\")\n",
    "else:\n",
    "    print(\"Fail to reject the null hypothesis: No significant difference in user ratings.\")"
   ]
  },
  {
   "cell_type": "code",
   "execution_count": 151,
   "metadata": {},
   "outputs": [
    {
     "name": "stdout",
     "output_type": "stream",
     "text": [
      "Action vs Sports — p-value: 4.24307776572644e-20\n",
      "Reject the null hypothesis: User ratings are significantly different.\n"
     ]
    }
   ],
   "source": [
    "## Hypothesis 2 ##\n",
    "\n",
    "# Filter user scores for Action and Sports genres\n",
    "action_ratings = df_relevant[df_relevant['genre'] == 'Action']['user_score'].dropna()\n",
    "sports_ratings = df_relevant[df_relevant['genre'] == 'Sports']['user_score'].dropna()\n",
    "\n",
    "# t-test\n",
    "alpha = 0.05\n",
    "t_stat2, p_val2 = stats.ttest_ind(action_ratings, sports_ratings, equal_var=False)\n",
    "\n",
    "print(f\"Action vs Sports — p-value: {p_val2}\")\n",
    "if p_val2 < alpha:\n",
    "    print(\"Reject the null hypothesis: User ratings are significantly different.\")\n",
    "else:\n",
    "    print(\"Fail to reject the null hypothesis: No significant difference in user ratings.\")"
   ]
  },
  {
   "cell_type": "markdown",
   "metadata": {
    "id": "424VTr4lIfzr"
   },
   "source": [
    "# Step 6. Write a general conclusion\n"
   ]
  },
  {
   "cell_type": "markdown",
   "metadata": {
    "id": "Rl-6ZMpnImpz"
   },
   "source": [
    "### Final Conclusion:\n",
    "\n",
    "Bassed off of all the tests we can see that the sales of boht video games and gameing platforms have been on the rize and show no signs of stoping. The top genres beng action,shooting, and sprots. The top platforms, being the PS3 and the Xbox 360 with the PS4 and XboxOne on the rise. We have many other answers to qestions that may help us when it comes to making predicitons about 2017. If I was planing on making a game in 2017 I would make a action shooter that would realse on the PS4 and Xbox One."
   ]
  },
  {
   "cell_type": "code",
   "execution_count": null,
   "metadata": {},
   "outputs": [],
   "source": []
  }
 ],
 "metadata": {
  "colab": {
   "provenance": []
  },
  "kernelspec": {
   "display_name": "Python 3 (ipykernel)",
   "language": "python",
   "name": "python3"
  },
  "language_info": {
   "codemirror_mode": {
    "name": "ipython",
    "version": 3
   },
   "file_extension": ".py",
   "mimetype": "text/x-python",
   "name": "python",
   "nbconvert_exporter": "python",
   "pygments_lexer": "ipython3",
   "version": "3.9.23"
  }
 },
 "nbformat": 4,
 "nbformat_minor": 4
}
